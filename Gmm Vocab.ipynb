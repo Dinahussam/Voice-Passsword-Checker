{
 "cells": [
  {
   "cell_type": "code",
   "execution_count": 1,
   "id": "47a73404",
   "metadata": {},
   "outputs": [],
   "source": [
    "import os\n",
    "import wave\n",
    "import time\n",
    "import pickle\n",
    "import numpy as np\n",
    "from sklearn import preprocessing\n",
    "from scipy.io.wavfile import read\n",
    "import python_speech_features as mfcc\n",
    "from sklearn.mixture import GaussianMixture \n",
    "import librosa"
   ]
  },
  {
   "cell_type": "code",
   "execution_count": 2,
   "id": "153c29cd",
   "metadata": {},
   "outputs": [],
   "source": [
    "def calculate_delta(array):\n",
    "   \n",
    "    rows,cols = array.shape\n",
    "    deltas = np.zeros((rows,20))\n",
    "    N = 2\n",
    "    for i in range(rows):\n",
    "        index = []\n",
    "        j = 1\n",
    "        while j <= N:\n",
    "            if i-j < 0:\n",
    "              first =0\n",
    "            else:\n",
    "              first = i-j\n",
    "            if i+j > rows-1:\n",
    "                second = rows-1\n",
    "            else:\n",
    "                second = i+j \n",
    "            index.append((second,first))\n",
    "            j+=1\n",
    "        deltas[i] = ( array[index[0][0]]-array[index[0][1]] + (2 * (array[index[1][0]]-array[index[1][1]])) ) / 10\n",
    "    return deltas"
   ]
  },
  {
   "cell_type": "code",
   "execution_count": 3,
   "id": "12fee447",
   "metadata": {},
   "outputs": [],
   "source": [
    "def extract_features(audio,rate):\n",
    "       \n",
    "    mfcc_feature = mfcc.mfcc(audio,rate, 0.0125, 0.005,20,nfft = 1200, appendEnergy = True)    \n",
    "    mfcc_feature = preprocessing.scale(mfcc_feature)\n",
    "    delta = calculate_delta(mfcc_feature)\n",
    "    combined = np.hstack((mfcc_feature,delta)) \n",
    "    return combined"
   ]
  },
  {
   "cell_type": "code",
   "execution_count": 5,
   "id": "4799541c",
   "metadata": {},
   "outputs": [],
   "source": [
    "def train_model_voc():\n",
    "\n",
    "    source   = r\"D:\\Projects\\Voice-Passsword-Checker\\ShaabanVoice\"\n",
    "    dest = r\"D:\\Projects\\Voice recognition\\models_vo\"\n",
    "    train_file = r\"D:\\Projects\\Voice recognition\\training_set_addition.txt\"     \n",
    "    file_paths = open(train_file,'r')\n",
    "    count = 1\n",
    "    features = np.asarray(())\n",
    "    for path in file_paths:    \n",
    "        path = path.strip()   \n",
    "\n",
    "        audio,sr = librosa.load(source +\"\\\\\"+ path)\n",
    "        vector   = extract_features(audio,sr)\n",
    "    \n",
    "        if features.size == 0:\n",
    "            features = vector\n",
    "        else:\n",
    "            features = np.vstack((features, vector))\n",
    "\n",
    "        if count == 6:    \n",
    "            gmm = GaussianMixture(n_components = 6, max_iter = 200, covariance_type='diag',n_init = 3)\n",
    "            gmm.fit(features)\n",
    "            \n",
    "            # dumping the trained gaussian model\n",
    "            picklefile = path.split(\"-\")[0]+\"-\"+path.split(\"-\")[1].split()[0]+\".gmm\"\n",
    "            pickle.dump(gmm,open(dest +\"\\\\\"+ picklefile,'wb'))\n",
    "            print('+ modeling completed for speaker:',picklefile,\" with data point = \",features.shape)   \n",
    "            features = np.asarray(())\n",
    "            count = 0\n",
    "        count = count + 1"
   ]
  },
  {
   "cell_type": "code",
   "execution_count": 6,
   "id": "6f1f7871",
   "metadata": {},
   "outputs": [
    {
     "name": "stdout",
     "output_type": "stream",
     "text": [
      "+ modeling completed for speaker: Shaaban-Close.gmm  with data point =  (3208, 40)\n",
      "+ modeling completed for speaker: Shaaban-Open.gmm  with data point =  (3106, 40)\n",
      "+ modeling completed for speaker: Shaaban-Push.gmm  with data point =  (3191, 40)\n",
      "+ modeling completed for speaker: Shaaban-Window.gmm  with data point =  (3174, 40)\n"
     ]
    }
   ],
   "source": [
    "train_model_voc()"
   ]
  },
  {
   "cell_type": "code",
   "execution_count": 6,
   "id": "b5d03208",
   "metadata": {},
   "outputs": [],
   "source": [
    "def test_model(Audiofile):\n",
    "\n",
    "    modelpath = r\"D:\\Projects\\Voice recognition\\models_vo\"\n",
    "    gmm_files = [os.path.join(modelpath,fname) for fname in\n",
    "                  os.listdir(modelpath) if fname.endswith('.gmm')]\n",
    "     \n",
    "    #Load the Gaussian gender Models\n",
    "    models    = [pickle.load(open(fname,'rb')) for fname in gmm_files]\n",
    "    speakers   = [fname.split(\"\\\\\")[-1].split(\".gmm\")[0] for fname \n",
    "                  in gmm_files]\n",
    "     \n",
    "    # Read the test directory and get the list of test audio files \n",
    "    audio,sr = librosa.load(Audiofile)\n",
    "    vector   = extract_features(audio,sr)\n",
    "\n",
    "    log_likelihood = np.zeros(len(models)) \n",
    "\n",
    "    for i in range(len(models)):\n",
    "        gmm    = models[i]  #checking with each model one by one\n",
    "        scores = np.array(gmm.score(vector))\n",
    "        log_likelihood[i] = scores.sum()\n",
    "         \n",
    "        winner = np.argmax(log_likelihood)\n",
    "        print(\"\\tdetected as - \", speakers[winner])\n",
    "        print(log_likelihood)"
   ]
  },
  {
   "cell_type": "code",
   "execution_count": 7,
   "id": "b3fbc0f7",
   "metadata": {},
   "outputs": [
    {
     "name": "stdout",
     "output_type": "stream",
     "text": [
      "\tdetected as -  Dina-Open\n",
      "[-26.90699712   0.           0.           0.           0.\n",
      "   0.           0.           0.           0.           0.\n",
      "   0.           0.        ]\n",
      "\tdetected as -  Dina-Push\n",
      "[-26.90699712 -24.92036505   0.           0.           0.\n",
      "   0.           0.           0.           0.           0.\n",
      "   0.           0.        ]\n",
      "\tdetected as -  Dina-Window\n",
      "[-26.90699712 -24.92036505 -26.14490822   0.           0.\n",
      "   0.           0.           0.           0.           0.\n",
      "   0.           0.        ]\n",
      "\tdetected as -  Romaisaa-Close\n",
      "[-26.90699712 -24.92036505 -26.14490822 -24.57014779   0.\n",
      "   0.           0.           0.           0.           0.\n",
      "   0.           0.        ]\n",
      "\tdetected as -  Romaisaa-Open\n",
      "[-26.90699712 -24.92036505 -26.14490822 -24.57014779 -26.26822274\n",
      "   0.           0.           0.           0.           0.\n",
      "   0.           0.        ]\n",
      "\tdetected as -  Romaisaa-Push\n",
      "[-26.90699712 -24.92036505 -26.14490822 -24.57014779 -26.26822274\n",
      " -25.33970673   0.           0.           0.           0.\n",
      "   0.           0.        ]\n",
      "\tdetected as -  Romaisaa-Window\n",
      "[-26.90699712 -24.92036505 -26.14490822 -24.57014779 -26.26822274\n",
      " -25.33970673 -25.16411638   0.           0.           0.\n",
      "   0.           0.        ]\n",
      "\tdetected as -  Shaaban-Close\n",
      "[-26.90699712 -24.92036505 -26.14490822 -24.57014779 -26.26822274\n",
      " -25.33970673 -25.16411638 -25.66510031   0.           0.\n",
      "   0.           0.        ]\n",
      "\tdetected as -  Shaaban-Open\n",
      "[-26.90699712 -24.92036505 -26.14490822 -24.57014779 -26.26822274\n",
      " -25.33970673 -25.16411638 -25.66510031 -26.54508331   0.\n",
      "   0.           0.        ]\n",
      "\tdetected as -  Shaaban-Push\n",
      "[-26.90699712 -24.92036505 -26.14490822 -24.57014779 -26.26822274\n",
      " -25.33970673 -25.16411638 -25.66510031 -26.54508331 -24.4175165\n",
      "   0.           0.        ]\n",
      "\tdetected as -  Shaaban-Window\n",
      "[-26.90699712 -24.92036505 -26.14490822 -24.57014779 -26.26822274\n",
      " -25.33970673 -25.16411638 -25.66510031 -26.54508331 -24.4175165\n",
      " -25.62048709   0.        ]\n",
      "\tdetected as -  Shaaban-Open\n",
      "[-26.90699712 -24.92036505 -26.14490822 -24.57014779 -26.26822274\n",
      " -25.33970673 -25.16411638 -25.66510031 -26.54508331 -24.4175165\n",
      " -25.62048709 -26.17475306]\n"
     ]
    }
   ],
   "source": [
    "test_model(r\"D:\\Projects\\Voice-Passsword-Checker\\audio.wav\")"
   ]
  },
  {
   "cell_type": "code",
   "execution_count": null,
   "id": "f1e72d80",
   "metadata": {},
   "outputs": [],
   "source": []
  }
 ],
 "metadata": {
  "kernelspec": {
   "display_name": "Python 3 (ipykernel)",
   "language": "python",
   "name": "python3"
  },
  "language_info": {
   "codemirror_mode": {
    "name": "ipython",
    "version": 3
   },
   "file_extension": ".py",
   "mimetype": "text/x-python",
   "name": "python",
   "nbconvert_exporter": "python",
   "pygments_lexer": "ipython3",
   "version": "3.7.0"
  }
 },
 "nbformat": 4,
 "nbformat_minor": 5
}
