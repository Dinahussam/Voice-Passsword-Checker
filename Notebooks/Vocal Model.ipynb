{
 "cells": [
  {
   "cell_type": "code",
   "execution_count": 86,
   "id": "f1c58e99",
   "metadata": {},
   "outputs": [],
   "source": [
    "import os\n",
    "import librosa\n",
    "import numpy as np\n",
    "import pandas as pd"
   ]
  },
  {
   "cell_type": "code",
   "execution_count": 97,
   "id": "371413e5",
   "metadata": {},
   "outputs": [
    {
     "name": "stdout",
     "output_type": "stream",
     "text": [
      "Dina-Close (1).wav\n",
      "Dina-Close (2).wav\n",
      "Dina-Close (3).wav\n",
      "Dina-Close (4).wav\n",
      "Dina-Close (5).wav\n",
      "Dina-Close (6).wav\n",
      "Dina-Open (1).wav\n",
      "Dina-Open (10).wav\n",
      "Dina-Open (2).wav\n",
      "Dina-Open (3).wav\n",
      "Dina-Open (4).wav\n",
      "Dina-Open (5).wav\n",
      "Dina-Open (6).wav\n",
      "Dina-Open (7).wav\n",
      "Dina-Open (8).wav\n",
      "Dina-Open (9).wav\n",
      "Dina-Push (1).wav\n",
      "Dina-Push (2).wav\n",
      "Dina-Push (3).wav\n",
      "Dina-Push (4).wav\n",
      "Dina-Push (5).wav\n",
      "Dina-Push (6).wav\n",
      "Dina-Window (1).wav\n",
      "Dina-Window (2).wav\n",
      "Dina-Window (3).wav\n",
      "Dina-Window (4).wav\n",
      "Dina-Window (5).wav\n",
      "Dina-Window (6).wav\n",
      "Romaisaa-Close (1).wav\n",
      "Romaisaa-Close (2).wav\n",
      "Romaisaa-Close (3).wav\n",
      "Romaisaa-Close (4).wav\n",
      "Romaisaa-Close (5).wav\n",
      "Romaisaa-Close (6).wav\n",
      "Romaisaa-Open (1).wav\n",
      "Romaisaa-Open (10).wav\n",
      "Romaisaa-Open (2).wav\n",
      "Romaisaa-Open (3).wav\n",
      "Romaisaa-Open (4).wav\n",
      "Romaisaa-Open (5).wav\n",
      "Romaisaa-Open (6).wav\n",
      "Romaisaa-Open (7).wav\n",
      "Romaisaa-Open (8).wav\n",
      "Romaisaa-Open (9).wav\n",
      "Romaisaa-Push (1).wav\n",
      "Romaisaa-Push (2).wav\n",
      "Romaisaa-Push (3).wav\n",
      "Romaisaa-Push (4).wav\n",
      "Romaisaa-Push (5).wav\n",
      "Romaisaa-Push (6).wav\n",
      "Romaisaa-Window (1).wav\n",
      "Romaisaa-Window (2).wav\n",
      "Romaisaa-Window (3).wav\n",
      "Romaisaa-Window (4).wav\n",
      "Romaisaa-Window (5).wav\n",
      "Romaisaa-Window (6).wav\n",
      "Shaaban-Close (1).wav\n",
      "Shaaban-Close (2).wav\n",
      "Shaaban-Close (3).wav\n",
      "Shaaban-Close (4).wav\n",
      "Shaaban-Close (5).wav\n",
      "Shaaban-Close (6).wav\n",
      "Shaaban-Open (1).wav\n",
      "Shaaban-Open (10).wav\n",
      "Shaaban-Open (2).wav\n",
      "Shaaban-Open (3).wav\n",
      "Shaaban-Open (4).wav\n",
      "Shaaban-Open (5).wav\n",
      "Shaaban-Open (6).wav\n",
      "Shaaban-Open (7).wav\n",
      "Shaaban-Open (8).wav\n",
      "Shaaban-Open (9).wav\n",
      "Shaaban-Push (1).wav\n",
      "Shaaban-Push (2).wav\n",
      "Shaaban-Push (3).wav\n",
      "Shaaban-Push (4).wav\n",
      "Shaaban-Push (5).wav\n",
      "Shaaban-Push (6).wav\n",
      "Shaaban-Window (1).wav\n",
      "Shaaban-Window (2).wav\n",
      "Shaaban-Window (3).wav\n",
      "Shaaban-Window (4).wav\n",
      "Shaaban-Window (5).wav\n",
      "Shaaban-Window (6).wav\n"
     ]
    }
   ],
   "source": [
    "for i in os.listdir(\"Training Set\"):\n",
    "    print(i)"
   ]
  },
  {
   "cell_type": "code",
   "execution_count": 87,
   "id": "372f6d4a",
   "metadata": {},
   "outputs": [
    {
     "name": "stderr",
     "output_type": "stream",
     "text": [
      "C:\\Users\\youss\\AppData\\Roaming\\Python\\Python37\\site-packages\\ipykernel_launcher.py:7: FutureWarning: Pass size=55125 as keyword args. From version 0.10 passing these as positional arguments will result in an error\n",
      "  import sys\n"
     ]
    }
   ],
   "source": [
    "path=\"Training Set\"\n",
    "X= np.zeros(1058)\n",
    "Words=[]\n",
    "Members=[]\n",
    "for Audio in os.listdir(path):\n",
    "    samples, sr= librosa.load(os.path.join(path, Audio))\n",
    "    samples=librosa.util.fix_length(samples, int(2.5*sr))\n",
    "    samples=librosa.resample(samples, orig_sr=sr, target_sr=8000)\n",
    "    mfcc=librosa.feature.mfcc(y=samples,n_mfcc=13, sr=8000)\n",
    "    delta=librosa.feature.delta(mfcc, order=2)\n",
    "    stft = np.abs(librosa.stft(samples))\n",
    "    chroma = np.mean(librosa.feature.chroma_stft(S=stft, sr=8000).T,axis=0)\n",
    "    contrast = np.mean(librosa.feature.spectral_contrast(S=stft, sr=8000,n_bands=5).T,axis=0)\n",
    "#     tonnetz = np.mean(librosa.feature.tonnetz(y=librosa.effects.harmonic(X), sr=8000).T,axis=0)\n",
    "    \n",
    "    mfcc=mfcc.reshape(-1)\n",
    "    delta=delta.reshape(-1)\n",
    "    features=np.array([*mfcc,*delta,*chroma,*contrast])\n",
    "    X=np.vstack((X,features))\n",
    "    Data= Audio.split(\"-\")\n",
    "    Words.append(Data[1].split()[0])\n",
    "    Members.append(Data[0])\n",
    "Data=pd.DataFrame(X).drop(0)\n",
    "Data[\"Words\"]=Words\n",
    "Data[\"Members\"]=Members\n"
   ]
  },
  {
   "cell_type": "code",
   "execution_count": 88,
   "id": "ebc73397",
   "metadata": {},
   "outputs": [
    {
     "data": {
      "text/html": [
       "<div>\n",
       "<style scoped>\n",
       "    .dataframe tbody tr th:only-of-type {\n",
       "        vertical-align: middle;\n",
       "    }\n",
       "\n",
       "    .dataframe tbody tr th {\n",
       "        vertical-align: top;\n",
       "    }\n",
       "\n",
       "    .dataframe thead th {\n",
       "        text-align: right;\n",
       "    }\n",
       "</style>\n",
       "<table border=\"1\" class=\"dataframe\">\n",
       "  <thead>\n",
       "    <tr style=\"text-align: right;\">\n",
       "      <th></th>\n",
       "      <th>0</th>\n",
       "      <th>1</th>\n",
       "      <th>2</th>\n",
       "      <th>3</th>\n",
       "      <th>4</th>\n",
       "      <th>5</th>\n",
       "      <th>6</th>\n",
       "      <th>7</th>\n",
       "      <th>8</th>\n",
       "      <th>9</th>\n",
       "      <th>...</th>\n",
       "      <th>1050</th>\n",
       "      <th>1051</th>\n",
       "      <th>1052</th>\n",
       "      <th>1053</th>\n",
       "      <th>1054</th>\n",
       "      <th>1055</th>\n",
       "      <th>1056</th>\n",
       "      <th>1057</th>\n",
       "      <th>Words</th>\n",
       "      <th>Members</th>\n",
       "    </tr>\n",
       "  </thead>\n",
       "  <tbody>\n",
       "    <tr>\n",
       "      <th>1</th>\n",
       "      <td>-494.442719</td>\n",
       "      <td>-446.736359</td>\n",
       "      <td>-418.882568</td>\n",
       "      <td>-416.183350</td>\n",
       "      <td>-438.488983</td>\n",
       "      <td>-441.462402</td>\n",
       "      <td>-413.064392</td>\n",
       "      <td>-342.913605</td>\n",
       "      <td>-255.765961</td>\n",
       "      <td>-126.827461</td>\n",
       "      <td>...</td>\n",
       "      <td>0.611130</td>\n",
       "      <td>0.651664</td>\n",
       "      <td>21.653181</td>\n",
       "      <td>17.651285</td>\n",
       "      <td>20.686931</td>\n",
       "      <td>19.406593</td>\n",
       "      <td>19.831438</td>\n",
       "      <td>49.123507</td>\n",
       "      <td>Close</td>\n",
       "      <td>Dina</td>\n",
       "    </tr>\n",
       "    <tr>\n",
       "      <th>2</th>\n",
       "      <td>-708.335327</td>\n",
       "      <td>-705.908813</td>\n",
       "      <td>-704.577332</td>\n",
       "      <td>-704.865845</td>\n",
       "      <td>-706.301331</td>\n",
       "      <td>-706.069824</td>\n",
       "      <td>-690.783936</td>\n",
       "      <td>-688.748169</td>\n",
       "      <td>-698.580505</td>\n",
       "      <td>-702.517334</td>\n",
       "      <td>...</td>\n",
       "      <td>0.546584</td>\n",
       "      <td>0.484906</td>\n",
       "      <td>21.185220</td>\n",
       "      <td>18.504861</td>\n",
       "      <td>19.512023</td>\n",
       "      <td>17.640513</td>\n",
       "      <td>18.828025</td>\n",
       "      <td>46.875078</td>\n",
       "      <td>Close</td>\n",
       "      <td>Dina</td>\n",
       "    </tr>\n",
       "    <tr>\n",
       "      <th>3</th>\n",
       "      <td>-649.803406</td>\n",
       "      <td>-649.179077</td>\n",
       "      <td>-640.318237</td>\n",
       "      <td>-625.264282</td>\n",
       "      <td>-616.145569</td>\n",
       "      <td>-605.687378</td>\n",
       "      <td>-604.353760</td>\n",
       "      <td>-600.751831</td>\n",
       "      <td>-590.672791</td>\n",
       "      <td>-591.608032</td>\n",
       "      <td>...</td>\n",
       "      <td>0.664266</td>\n",
       "      <td>0.597838</td>\n",
       "      <td>19.443829</td>\n",
       "      <td>16.869002</td>\n",
       "      <td>19.123060</td>\n",
       "      <td>20.312888</td>\n",
       "      <td>19.601472</td>\n",
       "      <td>49.200364</td>\n",
       "      <td>Close</td>\n",
       "      <td>Dina</td>\n",
       "    </tr>\n",
       "    <tr>\n",
       "      <th>4</th>\n",
       "      <td>-463.740906</td>\n",
       "      <td>-430.131775</td>\n",
       "      <td>-436.342285</td>\n",
       "      <td>-431.971039</td>\n",
       "      <td>-438.200165</td>\n",
       "      <td>-452.394684</td>\n",
       "      <td>-457.875641</td>\n",
       "      <td>-413.608521</td>\n",
       "      <td>-263.109070</td>\n",
       "      <td>-120.595360</td>\n",
       "      <td>...</td>\n",
       "      <td>0.501579</td>\n",
       "      <td>0.592285</td>\n",
       "      <td>20.734725</td>\n",
       "      <td>19.104731</td>\n",
       "      <td>22.561916</td>\n",
       "      <td>19.928909</td>\n",
       "      <td>19.225902</td>\n",
       "      <td>48.357684</td>\n",
       "      <td>Close</td>\n",
       "      <td>Dina</td>\n",
       "    </tr>\n",
       "    <tr>\n",
       "      <th>5</th>\n",
       "      <td>-413.477570</td>\n",
       "      <td>-335.808289</td>\n",
       "      <td>-327.797150</td>\n",
       "      <td>-358.080688</td>\n",
       "      <td>-387.227264</td>\n",
       "      <td>-409.735840</td>\n",
       "      <td>-425.828888</td>\n",
       "      <td>-352.720306</td>\n",
       "      <td>-205.935562</td>\n",
       "      <td>-79.195221</td>\n",
       "      <td>...</td>\n",
       "      <td>0.595167</td>\n",
       "      <td>0.495419</td>\n",
       "      <td>18.566973</td>\n",
       "      <td>19.284891</td>\n",
       "      <td>22.207289</td>\n",
       "      <td>20.768118</td>\n",
       "      <td>21.821331</td>\n",
       "      <td>48.164308</td>\n",
       "      <td>Close</td>\n",
       "      <td>Dina</td>\n",
       "    </tr>\n",
       "  </tbody>\n",
       "</table>\n",
       "<p>5 rows × 1060 columns</p>\n",
       "</div>"
      ],
      "text/plain": [
       "            0           1           2           3           4           5  \\\n",
       "1 -494.442719 -446.736359 -418.882568 -416.183350 -438.488983 -441.462402   \n",
       "2 -708.335327 -705.908813 -704.577332 -704.865845 -706.301331 -706.069824   \n",
       "3 -649.803406 -649.179077 -640.318237 -625.264282 -616.145569 -605.687378   \n",
       "4 -463.740906 -430.131775 -436.342285 -431.971039 -438.200165 -452.394684   \n",
       "5 -413.477570 -335.808289 -327.797150 -358.080688 -387.227264 -409.735840   \n",
       "\n",
       "            6           7           8           9  ...      1050      1051  \\\n",
       "1 -413.064392 -342.913605 -255.765961 -126.827461  ...  0.611130  0.651664   \n",
       "2 -690.783936 -688.748169 -698.580505 -702.517334  ...  0.546584  0.484906   \n",
       "3 -604.353760 -600.751831 -590.672791 -591.608032  ...  0.664266  0.597838   \n",
       "4 -457.875641 -413.608521 -263.109070 -120.595360  ...  0.501579  0.592285   \n",
       "5 -425.828888 -352.720306 -205.935562  -79.195221  ...  0.595167  0.495419   \n",
       "\n",
       "        1052       1053       1054       1055       1056       1057  Words  \\\n",
       "1  21.653181  17.651285  20.686931  19.406593  19.831438  49.123507  Close   \n",
       "2  21.185220  18.504861  19.512023  17.640513  18.828025  46.875078  Close   \n",
       "3  19.443829  16.869002  19.123060  20.312888  19.601472  49.200364  Close   \n",
       "4  20.734725  19.104731  22.561916  19.928909  19.225902  48.357684  Close   \n",
       "5  18.566973  19.284891  22.207289  20.768118  21.821331  48.164308  Close   \n",
       "\n",
       "   Members  \n",
       "1     Dina  \n",
       "2     Dina  \n",
       "3     Dina  \n",
       "4     Dina  \n",
       "5     Dina  \n",
       "\n",
       "[5 rows x 1060 columns]"
      ]
     },
     "execution_count": 88,
     "metadata": {},
     "output_type": "execute_result"
    }
   ],
   "source": [
    "Data.head()"
   ]
  },
  {
   "cell_type": "code",
   "execution_count": 92,
   "id": "c5b69ba7",
   "metadata": {},
   "outputs": [
    {
     "name": "stdout",
     "output_type": "stream",
     "text": [
      "(114, 1060)\n"
     ]
    },
    {
     "data": {
      "text/plain": [
       "((91, 1058), (23, 1058), (91,), (23,))"
      ]
     },
     "execution_count": 92,
     "metadata": {},
     "output_type": "execute_result"
    }
   ],
   "source": [
    "from sklearn.preprocessing import StandardScaler, LabelEncoder\n",
    "from sklearn.pipeline import Pipeline\n",
    "from sklearn.ensemble import RandomForestClassifier\n",
    "from sklearn.model_selection import train_test_split\n",
    "print(Data.shape)\n",
    "scale= StandardScaler()\n",
    "X=scale.fit_transform(Data.drop([\"Words\",\"Members\"],axis=1))\n",
    "y= LabelEncoder().fit_transform(Data[\"Words\"])\n",
    "X_train,X_test,y_train,y_test= train_test_split(X,y,test_size=0.2,stratify=Data[\"Words\"])\n",
    "X_train.shape , X_test.shape,y_train.shape,y_test.shape"
   ]
  },
  {
   "cell_type": "code",
   "execution_count": 96,
   "id": "3d54b7a4",
   "metadata": {},
   "outputs": [
    {
     "data": {
      "text/plain": [
       "0.6521739130434783"
      ]
     },
     "execution_count": 96,
     "metadata": {},
     "output_type": "execute_result"
    }
   ],
   "source": [
    "pipe = Pipeline([('scaler', StandardScaler()), ('clf', RandomForestClassifier())])\n",
    "\n",
    "pipe.fit(X_train,y_train)\n",
    "y_pred=pipe.predict(X_test)\n",
    "(y_pred==y_test).mean()"
   ]
  },
  {
   "cell_type": "code",
   "execution_count": 101,
   "id": "18dbc978",
   "metadata": {},
   "outputs": [
    {
     "name": "stderr",
     "output_type": "stream",
     "text": [
      "C:\\Users\\youss\\AppData\\Roaming\\Python\\Python37\\site-packages\\ipykernel_launcher.py:5: FutureWarning: Pass y=[0.         0.         0.         ... 0.00015455 0.00019587 0.        ] as keyword args. From version 0.10 passing these as positional arguments will result in an error\n",
      "  \"\"\"\n"
     ]
    },
    {
     "data": {
      "text/plain": [
       "[Text(0.5, 1.0, 'Mel-frequency spectrogram')]"
      ]
     },
     "execution_count": 101,
     "metadata": {},
     "output_type": "execute_result"
    },
    {
     "data": {
      "image/png": "[encoded data removed]",
      "text/plain": [
       "<Figure size 432x288 with 2 Axes>"
      ]
     },
     "metadata": {
      "needs_background": "light"
     },
     "output_type": "display_data"
    }
   ],
   "source": [
    "import librosa.display\n",
    "import matplotlib.pyplot as plt\n",
    "\n",
    "samples,sr=librosa.load(\"audio.wav\")\n",
    "S=librosa.feature.melspectrogram(samples,sr=sr)\n",
    "fig, ax = plt.subplots()\n",
    "S_dB = librosa.power_to_db(S, ref=np.max)\n",
    "img = librosa.display.specshow(S_dB, x_axis='time',\n",
    "                         y_axis='mel', sr=sr,\n",
    "                         ax=ax)\n",
    "fig.colorbar(img, ax=ax, format='%+2.0f dB')\n",
    "ax.set(title='Mel-frequency spectrogram')"
   ]
  },
  {
   "cell_type": "code",
   "execution_count": null,
   "id": "9502857c",
   "metadata": {},
   "outputs": [],
   "source": []
  }
 ],
 "metadata": {
  "kernelspec": {
   "display_name": "Python 3 (ipykernel)",
   "language": "python",
   "name": "python3"
  },
  "language_info": {
   "codemirror_mode": {
    "name": "ipython",
    "version": 3
   },
   "file_extension": ".py",
   "mimetype": "text/x-python",
   "name": "python",
   "nbconvert_exporter": "python",
   "pygments_lexer": "ipython3",
   "version": "3.7.0"
  }
 },
 "nbformat": 4,
 "nbformat_minor": 5
}
