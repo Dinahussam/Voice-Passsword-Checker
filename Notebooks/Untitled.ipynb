{
 "cells": [
  {
   "cell_type": "code",
   "execution_count": 1,
   "id": "367af350",
   "metadata": {
    "collapsed": true
   },
   "outputs": [
    {
     "name": "stdout",
     "output_type": "stream",
     "text": [
      "Collecting pyrubberband\n",
      "  Using cached pyrubberband-0.3.0.tar.gz (4.1 kB)\n",
      "  Preparing metadata (setup.py): started\n",
      "  Preparing metadata (setup.py): finished with status 'done'\n",
      "Requirement already satisfied: six in c:\\python37\\lib\\site-packages (from pyrubberband) (1.15.0)\n",
      "Collecting pysoundfile>=0.8.0"
     ]
    },
    {
     "name": "stderr",
     "output_type": "stream",
     "text": [
      "WARNING: Ignoring invalid distribution -pencv-python (c:\\python37\\lib\\site-packages)\n",
      "WARNING: Ignoring invalid distribution -illow (c:\\python37\\lib\\site-packages)\n",
      "WARNING: Ignoring invalid distribution -pencv-python (c:\\python37\\lib\\site-packages)\n",
      "WARNING: Ignoring invalid distribution -illow (c:\\python37\\lib\\site-packages)\n",
      "WARNING: Ignoring invalid distribution -pencv-python (c:\\python37\\lib\\site-packages)\n",
      "WARNING: Ignoring invalid distribution -illow (c:\\python37\\lib\\site-packages)\n",
      "WARNING: Ignoring invalid distribution -pencv-python (c:\\python37\\lib\\site-packages)\n",
      "WARNING: Ignoring invalid distribution -illow (c:\\python37\\lib\\site-packages)\n",
      "WARNING: Ignoring invalid distribution -pencv-python (c:\\python37\\lib\\site-packages)\n",
      "WARNING: Ignoring invalid distribution -illow (c:\\python37\\lib\\site-packages)\n",
      "WARNING: Ignoring invalid distribution -pencv-python (c:\\python37\\lib\\site-packages)\n",
      "WARNING: Ignoring invalid distribution -illow (c:\\python37\\lib\\site-packages)\n",
      "WARNING: Ignoring invalid distribution -pencv-python (c:\\python37\\lib\\site-packages)\n",
      "WARNING: Ignoring invalid distribution -illow (c:\\python37\\lib\\site-packages)\n",
      "WARNING: Ignoring invalid distribution -pencv-python (c:\\python37\\lib\\site-packages)\n",
      "WARNING: Ignoring invalid distribution -illow (c:\\python37\\lib\\site-packages)\n",
      "WARNING: You are using pip version 22.0.4; however, version 22.3.1 is available.\n",
      "You should consider upgrading via the 'c:\\python37\\python.exe -m pip install --upgrade pip' command.\n"
     ]
    },
    {
     "name": "stdout",
     "output_type": "stream",
     "text": [
      "\n",
      "  Using cached PySoundFile-0.9.0.post1-py2.py3.cp26.cp27.cp32.cp33.cp34.cp35.cp36.pp27.pp32.pp33-none-win_amd64.whl (671 kB)\n",
      "Requirement already satisfied: cffi>=0.6 in c:\\python37\\lib\\site-packages (from pysoundfile>=0.8.0->pyrubberband) (1.15.1)\n",
      "Requirement already satisfied: pycparser in c:\\python37\\lib\\site-packages (from cffi>=0.6->pysoundfile>=0.8.0->pyrubberband) (2.21)\n",
      "Building wheels for collected packages: pyrubberband\n",
      "  Building wheel for pyrubberband (setup.py): started\n",
      "  Building wheel for pyrubberband (setup.py): finished with status 'done'\n",
      "  Created wheel for pyrubberband: filename=pyrubberband-0.3.0-py3-none-any.whl size=4265 sha256=0b7225134563bf3876441df316188e633e59731e81a7710872d517e6b17ea608\n",
      "  Stored in directory: c:\\users\\youss\\appdata\\local\\pip\\cache\\wheels\\d7\\e4\\01\\8590e5b5fb52cead6f5cc389449054af4423310e45ec34d74e\n",
      "Successfully built pyrubberband\n",
      "Installing collected packages: pysoundfile, pyrubberband\n",
      "Successfully installed pyrubberband-0.3.0 pysoundfile-0.9.0.post1\n"
     ]
    }
   ],
   "source": [
    "!pip install pyrubberband"
   ]
  },
  {
   "cell_type": "code",
   "execution_count": 159,
   "id": "32d60083",
   "metadata": {},
   "outputs": [],
   "source": [
    "import scipy\n",
    "import librosa\n",
    "import IPython.display as ipd\n",
    "import numpy as np\n",
    "import matplotlib.pyplot as plt\n",
    "import os\n",
    "import pandas as pd\n",
    "import pyrubberband.pyrb as pyrb"
   ]
  },
  {
   "cell_type": "code",
   "execution_count": 160,
   "id": "c9c27163",
   "metadata": {},
   "outputs": [],
   "source": [
    "def audio_augmantation(signal,sample_rate):\n",
    "    pitch_shifted= pyrb.pitch_shift(signal,sr=sample_rate,n_steps=np.random.uniform(low=-5,high=5))\n",
    "    reversed_audio= signal*-1\n",
    "    noise= np.random.normal(0,signal.std(),signal.shape[0])\n",
    "    noisy_signal= signal+noise*np.random.rand()\n",
    "    return signal,pitch_shifted,reversed_audio,noisy_signal"
   ]
  },
  {
   "cell_type": "code",
   "execution_count": 161,
   "id": "6bf98fa7",
   "metadata": {},
   "outputs": [],
   "source": [
    "def sampling_triming(signal, sample_rate,new_rate):\n",
    "    signal,slicer =librosa.effects.trim(signal,top_db=55)\n",
    "    sampled_signal=scipy.signal.resample(signal[slicer[0]:slicer[1]],int((new_rate/sample_rate)*signal.shape[0]))\n",
    "    return sampled_signal, new_rate"
   ]
  },
  {
   "cell_type": "code",
   "execution_count": 162,
   "id": "47a388a1",
   "metadata": {},
   "outputs": [],
   "source": [
    "def mfcc(signal, sample_rate):\n",
    "    S = librosa.feature.melspectrogram(signal, sr=sample_rate, n_mels=128)\n",
    "    log_S = librosa.power_to_db(S, ref=np.max)\n",
    "    mfcc = librosa.feature.mfcc(S=log_S,n_mfcc=13)\n",
    "#     delta2_mfcc = librosa.feature.delta(mfcc, order=2)\n",
    "    log_S=log_S.reshape(-1)\n",
    "    return log_S"
   ]
  },
  {
   "cell_type": "code",
   "execution_count": 167,
   "id": "e4e87342",
   "metadata": {},
   "outputs": [
    {
     "name": "stderr",
     "output_type": "stream",
     "text": [
      "C:\\Users\\youss\\AppData\\Roaming\\Python\\Python37\\site-packages\\ipykernel_launcher.py:20: FutureWarning: Pass size=16800 as keyword args. From version 0.10 passing these as positional arguments will result in an error\n",
      "C:\\Users\\youss\\AppData\\Roaming\\Python\\Python37\\site-packages\\ipykernel_launcher.py:2: FutureWarning: Pass y=[-2.4192347e-03  6.2270195e-04 -4.8317565e-04 ...  1.1037410e-05\n",
      "  2.9180828e-04  1.8393602e-04] as keyword args. From version 0.10 passing these as positional arguments will result in an error\n",
      "  \n",
      "C:\\Users\\youss\\AppData\\Roaming\\Python\\Python37\\site-packages\\ipykernel_launcher.py:2: FutureWarning: Pass y=[-1.06517348e-03  1.86521705e-04 -2.02674207e-04 ...  8.71873531e-05\n",
      " -1.66066158e-04  1.02768899e-04] as keyword args. From version 0.10 passing these as positional arguments will result in an error\n",
      "  \n",
      "C:\\Users\\youss\\AppData\\Roaming\\Python\\Python37\\site-packages\\ipykernel_launcher.py:2: FutureWarning: Pass y=[ 2.4192347e-03 -6.2270195e-04  4.8317565e-04 ... -1.1037410e-05\n",
      " -2.9180828e-04 -1.8393602e-04] as keyword args. From version 0.10 passing these as positional arguments will result in an error\n",
      "  \n",
      "C:\\Users\\youss\\AppData\\Roaming\\Python\\Python37\\site-packages\\ipykernel_launcher.py:2: FutureWarning: Pass y=[-0.02116688  0.00463078 -0.02573018 ... -0.02328431 -0.03366438\n",
      " -0.00110529] as keyword args. From version 0.10 passing these as positional arguments will result in an error\n",
      "  \n",
      "C:\\Users\\youss\\AppData\\Roaming\\Python\\Python37\\site-packages\\ipykernel_launcher.py:2: FutureWarning: Pass y=[-4.2586794e-04  1.8069627e-04  1.2375011e-04 ... -4.7399689e-04\n",
      " -4.1117475e-04 -9.2053524e-05] as keyword args. From version 0.10 passing these as positional arguments will result in an error\n",
      "  \n",
      "C:\\Users\\youss\\AppData\\Roaming\\Python\\Python37\\site-packages\\ipykernel_launcher.py:2: FutureWarning: Pass y=[1.15597018e-04 3.60192796e-05 3.03323982e-04 ... 2.17692013e-05\n",
      " 2.40787859e-04 2.54832918e-04] as keyword args. From version 0.10 passing these as positional arguments will result in an error\n",
      "  \n",
      "C:\\Users\\youss\\AppData\\Roaming\\Python\\Python37\\site-packages\\ipykernel_launcher.py:2: FutureWarning: Pass y=[ 4.2586794e-04 -1.8069627e-04 -1.2375011e-04 ...  4.7399689e-04\n",
      "  4.1117475e-04  9.2053524e-05] as keyword args. From version 0.10 passing these as positional arguments will result in an error\n",
      "  \n",
      "C:\\Users\\youss\\AppData\\Roaming\\Python\\Python37\\site-packages\\ipykernel_launcher.py:2: FutureWarning: Pass y=[ 0.00770406 -0.01835138 -0.01948837 ... -0.00648878  0.02055664\n",
      " -0.0107076 ] as keyword args. From version 0.10 passing these as positional arguments will result in an error\n",
      "  \n",
      "C:\\Users\\youss\\AppData\\Roaming\\Python\\Python37\\site-packages\\ipykernel_launcher.py:2: FutureWarning: Pass y=[ 0.00046917  0.00036113 -0.00020477 ...  0.00178895  0.00130267\n",
      "  0.00161422] as keyword args. From version 0.10 passing these as positional arguments will result in an error\n",
      "  \n",
      "C:\\Users\\youss\\AppData\\Roaming\\Python\\Python37\\site-packages\\ipykernel_launcher.py:2: FutureWarning: Pass y=[ 0.00034499  0.00038916 -0.00055361 ...  0.00097345  0.00067084\n",
      "  0.0004877 ] as keyword args. From version 0.10 passing these as positional arguments will result in an error\n",
      "  \n",
      "C:\\Users\\youss\\AppData\\Roaming\\Python\\Python37\\site-packages\\ipykernel_launcher.py:2: FutureWarning: Pass y=[-0.00046917 -0.00036113  0.00020477 ... -0.00178895 -0.00130267\n",
      " -0.00161422] as keyword args. From version 0.10 passing these as positional arguments will result in an error\n",
      "  \n",
      "C:\\Users\\youss\\AppData\\Roaming\\Python\\Python37\\site-packages\\ipykernel_launcher.py:2: FutureWarning: Pass y=[ 0.00216196  0.00307082 -0.00039069 ...  0.00071447  0.0053238\n",
      " -0.0008245 ] as keyword args. From version 0.10 passing these as positional arguments will result in an error\n",
      "  \n",
      "C:\\Users\\youss\\AppData\\Roaming\\Python\\Python37\\site-packages\\ipykernel_launcher.py:2: FutureWarning: Pass y=[ 0.00022218 -0.00033969 -0.00042377 ...  0.00059599  0.00035598\n",
      "  0.00018172] as keyword args. From version 0.10 passing these as positional arguments will result in an error\n",
      "  \n",
      "C:\\Users\\youss\\AppData\\Roaming\\Python\\Python37\\site-packages\\ipykernel_launcher.py:2: FutureWarning: Pass y=[ 3.87723022e-05 -3.84855674e-04 -4.51354576e-04 ... -4.13019538e-04\n",
      " -4.95073803e-04 -2.47994613e-04] as keyword args. From version 0.10 passing these as positional arguments will result in an error\n",
      "  \n",
      "C:\\Users\\youss\\AppData\\Roaming\\Python\\Python37\\site-packages\\ipykernel_launcher.py:2: FutureWarning: Pass y=[-0.00022218  0.00033969  0.00042377 ... -0.00059599 -0.00035598\n",
      " -0.00018172] as keyword args. From version 0.10 passing these as positional arguments will result in an error\n",
      "  \n",
      "C:\\Users\\youss\\AppData\\Roaming\\Python\\Python37\\site-packages\\ipykernel_launcher.py:2: FutureWarning: Pass y=[ 0.00185499  0.00180988 -0.00290483 ...  0.00384405  0.00094484\n",
      "  0.00010655] as keyword args. From version 0.10 passing these as positional arguments will result in an error\n",
      "  \n",
      "C:\\Users\\youss\\AppData\\Roaming\\Python\\Python37\\site-packages\\ipykernel_launcher.py:2: FutureWarning: Pass y=[-1.1205148e-03 -1.2541468e-03  2.5851806e-04 ...  4.7360511e-05\n",
      "  4.7409136e-05 -2.7853347e-04] as keyword args. From version 0.10 passing these as positional arguments will result in an error\n",
      "  \n",
      "C:\\Users\\youss\\AppData\\Roaming\\Python\\Python37\\site-packages\\ipykernel_launcher.py:2: FutureWarning: Pass y=[-0.00019193 -0.0006667  -0.0003367  ... -0.00260955 -0.00190086\n",
      " -0.00034887] as keyword args. From version 0.10 passing these as positional arguments will result in an error\n",
      "  \n",
      "C:\\Users\\youss\\AppData\\Roaming\\Python\\Python37\\site-packages\\ipykernel_launcher.py:2: FutureWarning: Pass y=[0.00032204 0.00050373 0.00037848 ... 0.00075288 0.00026762 0.00016509] as keyword args. From version 0.10 passing these as positional arguments will result in an error\n",
      "  \n",
      "C:\\Users\\youss\\AppData\\Roaming\\Python\\Python37\\site-packages\\ipykernel_launcher.py:2: FutureWarning: Pass y=[ 1.7939205e-06 -1.7128859e-04 -2.5088465e-04 ...  3.5740683e-04\n",
      "  2.6987874e-04  3.5329669e-04] as keyword args. From version 0.10 passing these as positional arguments will result in an error\n",
      "  \n",
      "C:\\Users\\youss\\AppData\\Roaming\\Python\\Python37\\site-packages\\ipykernel_launcher.py:2: FutureWarning: Pass y=[ 0.00013186  0.00045234  0.00074611 ... -0.00025553 -0.00017338\n",
      " -0.00019256] as keyword args. From version 0.10 passing these as positional arguments will result in an error\n",
      "  \n",
      "C:\\Users\\youss\\AppData\\Roaming\\Python\\Python37\\site-packages\\ipykernel_launcher.py:2: FutureWarning: Pass y=[ 1.2340308e-04 -1.0037480e-04 -3.4786851e-04 ...  1.4527986e-04\n",
      "  9.5924452e-07  7.5766555e-05] as keyword args. From version 0.10 passing these as positional arguments will result in an error\n",
      "  \n",
      "C:\\Users\\youss\\AppData\\Roaming\\Python\\Python37\\site-packages\\ipykernel_launcher.py:2: FutureWarning: Pass y=[-2.4591748e-06  4.7739370e-05 -1.2748630e-04 ...  2.3287289e-04\n",
      "  1.6427222e-04 -1.4673890e-05] as keyword args. From version 0.10 passing these as positional arguments will result in an error\n",
      "  \n",
      "C:\\Users\\youss\\AppData\\Roaming\\Python\\Python37\\site-packages\\ipykernel_launcher.py:2: FutureWarning: Pass y=[-4.4330073e-04 -6.5261091e-05 -1.7698214e-04 ... -1.4788785e-04\n",
      " -6.0491095e-04 -1.0164891e-03] as keyword args. From version 0.10 passing these as positional arguments will result in an error\n",
      "  \n",
      "C:\\Users\\youss\\AppData\\Roaming\\Python\\Python37\\site-packages\\ipykernel_launcher.py:2: FutureWarning: Pass y=[3.3375155e-04 4.1931248e-04 9.8049422e-05 ... 8.6753129e-04 9.8025938e-04\n",
      " 1.3880292e-03] as keyword args. From version 0.10 passing these as positional arguments will result in an error\n",
      "  \n",
      "C:\\Users\\youss\\AppData\\Roaming\\Python\\Python37\\site-packages\\ipykernel_launcher.py:2: FutureWarning: Pass y=[ 9.3360613e-05 -1.5491601e-04  4.8225094e-04 ... -5.8432959e-04\n",
      " -3.9549530e-04 -5.9655344e-04] as keyword args. From version 0.10 passing these as positional arguments will result in an error\n",
      "  \n",
      "C:\\Users\\youss\\AppData\\Roaming\\Python\\Python37\\site-packages\\ipykernel_launcher.py:2: FutureWarning: Pass y=[0.00054844 0.0008691  0.00029713 ... 0.00086231 0.00106532 0.00023109] as keyword args. From version 0.10 passing these as positional arguments will result in an error\n",
      "  \n"
     ]
    },
    {
     "name": "stderr",
     "output_type": "stream",
     "text": [
      "C:\\Users\\youss\\AppData\\Roaming\\Python\\Python37\\site-packages\\ipykernel_launcher.py:2: FutureWarning: Pass y=[-0.00014699 -0.00065936 -0.00039909 ...  0.          0.\n",
      "  0.        ] as keyword args. From version 0.10 passing these as positional arguments will result in an error\n",
      "  \n",
      "C:\\Users\\youss\\AppData\\Roaming\\Python\\Python37\\site-packages\\ipykernel_launcher.py:2: FutureWarning: Pass y=[-0.0002247  -0.00070184 -0.00042306 ...  0.          0.\n",
      "  0.        ] as keyword args. From version 0.10 passing these as positional arguments will result in an error\n",
      "  \n",
      "C:\\Users\\youss\\AppData\\Roaming\\Python\\Python37\\site-packages\\ipykernel_launcher.py:2: FutureWarning: Pass y=[0.00014699 0.00065936 0.00039909 ... 0.         0.         0.        ] as keyword args. From version 0.10 passing these as positional arguments will result in an error\n",
      "  \n",
      "C:\\Users\\youss\\AppData\\Roaming\\Python\\Python37\\site-packages\\ipykernel_launcher.py:2: FutureWarning: Pass y=[-0.00440347  0.00508563  0.00495594 ...  0.          0.\n",
      "  0.        ] as keyword args. From version 0.10 passing these as positional arguments will result in an error\n",
      "  \n",
      "C:\\Users\\youss\\AppData\\Roaming\\Python\\Python37\\site-packages\\ipykernel_launcher.py:2: FutureWarning: Pass y=[-0.00049848 -0.00089954 -0.00121007 ...  0.          0.\n",
      "  0.        ] as keyword args. From version 0.10 passing these as positional arguments will result in an error\n",
      "  \n",
      "C:\\Users\\youss\\AppData\\Roaming\\Python\\Python37\\site-packages\\ipykernel_launcher.py:2: FutureWarning: Pass y=[-0.00056106 -0.00123512 -0.00108319 ...  0.          0.\n",
      "  0.        ] as keyword args. From version 0.10 passing these as positional arguments will result in an error\n",
      "  \n",
      "C:\\Users\\youss\\AppData\\Roaming\\Python\\Python37\\site-packages\\ipykernel_launcher.py:2: FutureWarning: Pass y=[0.00049848 0.00089954 0.00121007 ... 0.         0.         0.        ] as keyword args. From version 0.10 passing these as positional arguments will result in an error\n",
      "  \n",
      "C:\\Users\\youss\\AppData\\Roaming\\Python\\Python37\\site-packages\\ipykernel_launcher.py:2: FutureWarning: Pass y=[-0.00871037 -0.01536574  0.01505886 ...  0.          0.\n",
      "  0.        ] as keyword args. From version 0.10 passing these as positional arguments will result in an error\n",
      "  \n",
      "C:\\Users\\youss\\AppData\\Roaming\\Python\\Python37\\site-packages\\ipykernel_launcher.py:2: FutureWarning: Pass y=[ 9.0777685e-05  4.6017012e-04 -5.2228832e-04 ...  0.0000000e+00\n",
      "  0.0000000e+00  0.0000000e+00] as keyword args. From version 0.10 passing these as positional arguments will result in an error\n",
      "  \n",
      "C:\\Users\\youss\\AppData\\Roaming\\Python\\Python37\\site-packages\\ipykernel_launcher.py:2: FutureWarning: Pass y=[ 7.80256222e-05  3.25363374e-04 -4.67275791e-04 ...  0.00000000e+00\n",
      "  0.00000000e+00  0.00000000e+00] as keyword args. From version 0.10 passing these as positional arguments will result in an error\n",
      "  \n",
      "C:\\Users\\youss\\AppData\\Roaming\\Python\\Python37\\site-packages\\ipykernel_launcher.py:2: FutureWarning: Pass y=[-9.0777685e-05 -4.6017012e-04  5.2228832e-04 ...  0.0000000e+00\n",
      "  0.0000000e+00  0.0000000e+00] as keyword args. From version 0.10 passing these as positional arguments will result in an error\n",
      "  \n",
      "C:\\Users\\youss\\AppData\\Roaming\\Python\\Python37\\site-packages\\ipykernel_launcher.py:2: FutureWarning: Pass y=[ 0.00977076 -0.00016531 -0.00380501 ...  0.          0.\n",
      "  0.        ] as keyword args. From version 0.10 passing these as positional arguments will result in an error\n",
      "  \n",
      "C:\\Users\\youss\\AppData\\Roaming\\Python\\Python37\\site-packages\\ipykernel_launcher.py:2: FutureWarning: Pass y=[-3.5613164e-04  9.3123217e-06 -2.1504551e-04 ...  0.0000000e+00\n",
      "  0.0000000e+00  0.0000000e+00] as keyword args. From version 0.10 passing these as positional arguments will result in an error\n",
      "  \n",
      "C:\\Users\\youss\\AppData\\Roaming\\Python\\Python37\\site-packages\\ipykernel_launcher.py:2: FutureWarning: Pass y=[ 7.98260721e-05 -2.39275305e-04 -7.32629769e-05 ...  0.00000000e+00\n",
      "  0.00000000e+00  0.00000000e+00] as keyword args. From version 0.10 passing these as positional arguments will result in an error\n",
      "  \n",
      "C:\\Users\\youss\\AppData\\Roaming\\Python\\Python37\\site-packages\\ipykernel_launcher.py:2: FutureWarning: Pass y=[ 3.5613164e-04 -9.3123217e-06  2.1504551e-04 ...  0.0000000e+00\n",
      "  0.0000000e+00  0.0000000e+00] as keyword args. From version 0.10 passing these as positional arguments will result in an error\n",
      "  \n",
      "C:\\Users\\youss\\AppData\\Roaming\\Python\\Python37\\site-packages\\ipykernel_launcher.py:2: FutureWarning: Pass y=[-0.0164015   0.00713334 -0.02191844 ...  0.          0.\n",
      "  0.        ] as keyword args. From version 0.10 passing these as positional arguments will result in an error\n",
      "  \n",
      "C:\\Users\\youss\\AppData\\Roaming\\Python\\Python37\\site-packages\\ipykernel_launcher.py:2: FutureWarning: Pass y=[-0.00084163 -0.00106091 -0.00065029 ...  0.          0.\n",
      "  0.        ] as keyword args. From version 0.10 passing these as positional arguments will result in an error\n",
      "  \n",
      "C:\\Users\\youss\\AppData\\Roaming\\Python\\Python37\\site-packages\\ipykernel_launcher.py:2: FutureWarning: Pass y=[ 5.3788622e-06 -5.4608878e-05  1.7495970e-04 ...  0.0000000e+00\n",
      "  0.0000000e+00  0.0000000e+00] as keyword args. From version 0.10 passing these as positional arguments will result in an error\n",
      "  \n",
      "C:\\Users\\youss\\AppData\\Roaming\\Python\\Python37\\site-packages\\ipykernel_launcher.py:2: FutureWarning: Pass y=[-0.00031756 -0.00177542 -0.00080982 ...  0.          0.\n",
      "  0.        ] as keyword args. From version 0.10 passing these as positional arguments will result in an error\n",
      "  \n",
      "C:\\Users\\youss\\AppData\\Roaming\\Python\\Python37\\site-packages\\ipykernel_launcher.py:2: FutureWarning: Pass y=[ 0.00014546 -0.00089966  0.00056165 ...  0.          0.\n",
      "  0.        ] as keyword args. From version 0.10 passing these as positional arguments will result in an error\n",
      "  \n",
      "C:\\Users\\youss\\AppData\\Roaming\\Python\\Python37\\site-packages\\ipykernel_launcher.py:2: FutureWarning: Pass y=[0.00035677 0.00051885 0.00074986 ... 0.         0.         0.        ] as keyword args. From version 0.10 passing these as positional arguments will result in an error\n",
      "  \n",
      "C:\\Users\\youss\\AppData\\Roaming\\Python\\Python37\\site-packages\\ipykernel_launcher.py:2: FutureWarning: Pass y=[-0.00018304 -0.00063507 -0.0003469  ...  0.          0.\n",
      "  0.        ] as keyword args. From version 0.10 passing these as positional arguments will result in an error\n",
      "  \n",
      "C:\\Users\\youss\\AppData\\Roaming\\Python\\Python37\\site-packages\\ipykernel_launcher.py:2: FutureWarning: Pass y=[-0.00060496 -0.00128802 -0.0011971  ...  0.          0.\n",
      "  0.        ] as keyword args. From version 0.10 passing these as positional arguments will result in an error\n",
      "  \n",
      "C:\\Users\\youss\\AppData\\Roaming\\Python\\Python37\\site-packages\\ipykernel_launcher.py:2: FutureWarning: Pass y=[1.07297765e-05 5.55587758e-04 3.32226511e-04 ... 0.00000000e+00\n",
      " 0.00000000e+00 0.00000000e+00] as keyword args. From version 0.10 passing these as positional arguments will result in an error\n",
      "  \n",
      "C:\\Users\\youss\\AppData\\Roaming\\Python\\Python37\\site-packages\\ipykernel_launcher.py:2: FutureWarning: Pass y=[ 0.00042142 -0.00085411 -0.00037668 ...  0.          0.\n",
      "  0.        ] as keyword args. From version 0.10 passing these as positional arguments will result in an error\n",
      "  \n",
      "C:\\Users\\youss\\AppData\\Roaming\\Python\\Python37\\site-packages\\ipykernel_launcher.py:2: FutureWarning: Pass y=[-8.2478782e-06  6.0696655e-04  7.5121858e-04 ...  0.0000000e+00\n",
      "  0.0000000e+00  0.0000000e+00] as keyword args. From version 0.10 passing these as positional arguments will result in an error\n",
      "  \n",
      "C:\\Users\\youss\\AppData\\Roaming\\Python\\Python37\\site-packages\\ipykernel_launcher.py:2: FutureWarning: Pass y=[0.00012935 0.00075099 0.00044457 ... 0.         0.         0.        ] as keyword args. From version 0.10 passing these as positional arguments will result in an error\n",
      "  \n",
      "C:\\Users\\youss\\AppData\\Roaming\\Python\\Python37\\site-packages\\ipykernel_launcher.py:2: FutureWarning: Pass y=[-2.2033938e-04 -2.1610942e-04  7.4259224e-05 ... -4.9365666e-05\n",
      "  1.3375020e-04  1.6577795e-04] as keyword args. From version 0.10 passing these as positional arguments will result in an error\n",
      "  \n",
      "C:\\Users\\youss\\AppData\\Roaming\\Python\\Python37\\site-packages\\ipykernel_launcher.py:2: FutureWarning: Pass y=[-2.78480803e-04 -1.41016740e-04 -5.66850754e-05 ... -2.36596984e-04\n",
      " -2.51193718e-04  2.48739244e-04] as keyword args. From version 0.10 passing these as positional arguments will result in an error\n",
      "  \n",
      "C:\\Users\\youss\\AppData\\Roaming\\Python\\Python37\\site-packages\\ipykernel_launcher.py:2: FutureWarning: Pass y=[ 2.2033938e-04  2.1610942e-04 -7.4259224e-05 ...  4.9365666e-05\n",
      " -1.3375020e-04 -1.6577795e-04] as keyword args. From version 0.10 passing these as positional arguments will result in an error\n",
      "  \n",
      "C:\\Users\\youss\\AppData\\Roaming\\Python\\Python37\\site-packages\\ipykernel_launcher.py:2: FutureWarning: Pass y=[ 0.01816354  0.0045271   0.01675096 ... -0.00130708 -0.01062867\n",
      " -0.00409481] as keyword args. From version 0.10 passing these as positional arguments will result in an error\n",
      "  \n"
     ]
    },
    {
     "name": "stderr",
     "output_type": "stream",
     "text": [
      "C:\\Users\\youss\\AppData\\Roaming\\Python\\Python37\\site-packages\\ipykernel_launcher.py:2: FutureWarning: Pass y=[ 0.00030031 -0.0001722   0.00018149 ... -0.00013066  0.00084679\n",
      "  0.00092971] as keyword args. From version 0.10 passing these as positional arguments will result in an error\n",
      "  \n",
      "C:\\Users\\youss\\AppData\\Roaming\\Python\\Python37\\site-packages\\ipykernel_launcher.py:2: FutureWarning: Pass y=[-1.37187172e-04  6.54289854e-05 -1.15307599e-04 ... -1.79573040e-04\n",
      " -4.57423769e-04 -1.48930127e-04] as keyword args. From version 0.10 passing these as positional arguments will result in an error\n",
      "  \n",
      "C:\\Users\\youss\\AppData\\Roaming\\Python\\Python37\\site-packages\\ipykernel_launcher.py:2: FutureWarning: Pass y=[-0.00030031  0.0001722  -0.00018149 ...  0.00013066 -0.00084679\n",
      " -0.00092971] as keyword args. From version 0.10 passing these as positional arguments will result in an error\n",
      "  \n",
      "C:\\Users\\youss\\AppData\\Roaming\\Python\\Python37\\site-packages\\ipykernel_launcher.py:2: FutureWarning: Pass y=[ 0.02435724  0.01201879 -0.00292653 ... -0.00642654  0.00092797\n",
      "  0.02475574] as keyword args. From version 0.10 passing these as positional arguments will result in an error\n",
      "  \n",
      "C:\\Users\\youss\\AppData\\Roaming\\Python\\Python37\\site-packages\\ipykernel_launcher.py:2: FutureWarning: Pass y=[ 2.1922777e-05 -8.8623543e-05 -3.2237196e-05 ... -2.6999454e-03\n",
      " -3.4411675e-03 -3.3874046e-03] as keyword args. From version 0.10 passing these as positional arguments will result in an error\n",
      "  \n",
      "C:\\Users\\youss\\AppData\\Roaming\\Python\\Python37\\site-packages\\ipykernel_launcher.py:2: FutureWarning: Pass y=[9.49337798e-05 2.01075331e-04 8.49715599e-05 ... 2.31679512e-02\n",
      " 2.06529634e-02 1.30817981e-02] as keyword args. From version 0.10 passing these as positional arguments will result in an error\n",
      "  \n",
      "C:\\Users\\youss\\AppData\\Roaming\\Python\\Python37\\site-packages\\ipykernel_launcher.py:2: FutureWarning: Pass y=[-2.1922777e-05  8.8623543e-05  3.2237196e-05 ...  2.6999454e-03\n",
      "  3.4411675e-03  3.3874046e-03] as keyword args. From version 0.10 passing these as positional arguments will result in an error\n",
      "  \n",
      "C:\\Users\\youss\\AppData\\Roaming\\Python\\Python37\\site-packages\\ipykernel_launcher.py:2: FutureWarning: Pass y=[-0.00509889 -0.00364913 -0.00656423 ... -0.02079786 -0.02858349\n",
      " -0.02851486] as keyword args. From version 0.10 passing these as positional arguments will result in an error\n",
      "  \n",
      "C:\\Users\\youss\\AppData\\Roaming\\Python\\Python37\\site-packages\\ipykernel_launcher.py:2: FutureWarning: Pass y=[-0.000654   -0.00010298  0.00037817 ... -0.00026321 -0.00031537\n",
      " -0.00020868] as keyword args. From version 0.10 passing these as positional arguments will result in an error\n",
      "  \n",
      "C:\\Users\\youss\\AppData\\Roaming\\Python\\Python37\\site-packages\\ipykernel_launcher.py:2: FutureWarning: Pass y=[-5.78090445e-05 -3.85672746e-04  2.70105952e-04 ...  3.35812371e-04\n",
      " -8.23700464e-05 -2.90428247e-04] as keyword args. From version 0.10 passing these as positional arguments will result in an error\n",
      "  \n",
      "C:\\Users\\youss\\AppData\\Roaming\\Python\\Python37\\site-packages\\ipykernel_launcher.py:2: FutureWarning: Pass y=[ 0.000654    0.00010298 -0.00037817 ...  0.00026321  0.00031537\n",
      "  0.00020868] as keyword args. From version 0.10 passing these as positional arguments will result in an error\n",
      "  \n",
      "C:\\Users\\youss\\AppData\\Roaming\\Python\\Python37\\site-packages\\ipykernel_launcher.py:2: FutureWarning: Pass y=[-0.01065083 -0.00258178  0.03889574 ... -0.02352284 -0.0052392\n",
      "  0.01736887] as keyword args. From version 0.10 passing these as positional arguments will result in an error\n",
      "  \n",
      "C:\\Users\\youss\\AppData\\Roaming\\Python\\Python37\\site-packages\\ipykernel_launcher.py:2: FutureWarning: Pass y=[-6.89938839e-04  6.32412120e-05 -8.12610495e-04 ...  1.15205577e-04\n",
      "  1.29616465e-05 -8.07971519e-05] as keyword args. From version 0.10 passing these as positional arguments will result in an error\n",
      "  \n",
      "C:\\Users\\youss\\AppData\\Roaming\\Python\\Python37\\site-packages\\ipykernel_launcher.py:2: FutureWarning: Pass y=[-5.7122903e-04  2.9438347e-04  3.5112593e-05 ... -1.9224432e-04\n",
      " -4.3214337e-04 -1.8025639e-04] as keyword args. From version 0.10 passing these as positional arguments will result in an error\n",
      "  \n",
      "C:\\Users\\youss\\AppData\\Roaming\\Python\\Python37\\site-packages\\ipykernel_launcher.py:2: FutureWarning: Pass y=[ 2.8862534e-04 -3.7960577e-04  3.4836889e-05 ... -3.5936708e-04\n",
      " -1.5283569e-03  1.0383556e-03] as keyword args. From version 0.10 passing these as positional arguments will result in an error\n",
      "  \n",
      "C:\\Users\\youss\\AppData\\Roaming\\Python\\Python37\\site-packages\\ipykernel_launcher.py:2: FutureWarning: Pass y=[ 9.1371109e-04  3.8436777e-04  6.0380477e-04 ...  1.6285949e-04\n",
      "  2.7545415e-05 -2.2368337e-04] as keyword args. From version 0.10 passing these as positional arguments will result in an error\n",
      "  \n",
      "C:\\Users\\youss\\AppData\\Roaming\\Python\\Python37\\site-packages\\ipykernel_launcher.py:2: FutureWarning: Pass y=[-5.7394962e-05 -7.7680648e-05 -2.0560226e-04 ... -4.1060924e-04\n",
      "  1.1604953e-05  4.0411251e-04] as keyword args. From version 0.10 passing these as positional arguments will result in an error\n",
      "  \n",
      "C:\\Users\\youss\\AppData\\Roaming\\Python\\Python37\\site-packages\\ipykernel_launcher.py:2: FutureWarning: Pass y=[-0.00014183 -0.00038289 -0.00035133 ...  0.0054286  -0.00608777\n",
      " -0.00377726] as keyword args. From version 0.10 passing these as positional arguments will result in an error\n",
      "  \n",
      "C:\\Users\\youss\\AppData\\Roaming\\Python\\Python37\\site-packages\\ipykernel_launcher.py:2: FutureWarning: Pass y=[-0.0033069  -0.00375953 -0.00119126 ...  0.00038777 -0.00011234\n",
      " -0.00011087] as keyword args. From version 0.10 passing these as positional arguments will result in an error\n",
      "  \n",
      "C:\\Users\\youss\\AppData\\Roaming\\Python\\Python37\\site-packages\\ipykernel_launcher.py:2: FutureWarning: Pass y=[ 3.3516309e-05  3.1827512e-05 -1.5632859e-05 ...  2.8774656e-07\n",
      " -4.9711643e-06  7.0337765e-06] as keyword args. From version 0.10 passing these as positional arguments will result in an error\n",
      "  \n",
      "C:\\Users\\youss\\AppData\\Roaming\\Python\\Python37\\site-packages\\ipykernel_launcher.py:2: FutureWarning: Pass y=[ 4.5178618e-05 -2.0549019e-04  3.3774186e-06 ...  5.1279931e-04\n",
      "  1.5800823e-04 -3.0031736e-04] as keyword args. From version 0.10 passing these as positional arguments will result in an error\n",
      "  \n",
      "C:\\Users\\youss\\AppData\\Roaming\\Python\\Python37\\site-packages\\ipykernel_launcher.py:2: FutureWarning: Pass y=[-0.00044103 -0.00027459 -0.00011358 ... -0.0006019   0.00012971\n",
      "  0.00051373] as keyword args. From version 0.10 passing these as positional arguments will result in an error\n",
      "  \n",
      "C:\\Users\\youss\\AppData\\Roaming\\Python\\Python37\\site-packages\\ipykernel_launcher.py:2: FutureWarning: Pass y=[-6.1777700e-04 -9.2849554e-04 -4.0240187e-04 ... -5.6243487e-05\n",
      " -2.4637879e-05  7.8868266e-05] as keyword args. From version 0.10 passing these as positional arguments will result in an error\n",
      "  \n",
      "C:\\Users\\youss\\AppData\\Roaming\\Python\\Python37\\site-packages\\ipykernel_launcher.py:2: FutureWarning: Pass y=[0.00047758 0.00040181 0.0004008  ... 0.         0.         0.        ] as keyword args. From version 0.10 passing these as positional arguments will result in an error\n",
      "  \n",
      "C:\\Users\\youss\\AppData\\Roaming\\Python\\Python37\\site-packages\\ipykernel_launcher.py:2: FutureWarning: Pass y=[0.00019335 0.00055987 0.00036905 ... 0.         0.         0.        ] as keyword args. From version 0.10 passing these as positional arguments will result in an error\n",
      "  \n",
      "C:\\Users\\youss\\AppData\\Roaming\\Python\\Python37\\site-packages\\ipykernel_launcher.py:2: FutureWarning: Pass y=[-0.00047758 -0.00040181 -0.0004008  ...  0.          0.\n",
      "  0.        ] as keyword args. From version 0.10 passing these as positional arguments will result in an error\n",
      "  \n",
      "C:\\Users\\youss\\AppData\\Roaming\\Python\\Python37\\site-packages\\ipykernel_launcher.py:2: FutureWarning: Pass y=[-0.00359656 -0.01042569  0.00060942 ...  0.          0.\n",
      "  0.        ] as keyword args. From version 0.10 passing these as positional arguments will result in an error\n",
      "  \n",
      "C:\\Users\\youss\\AppData\\Roaming\\Python\\Python37\\site-packages\\ipykernel_launcher.py:2: FutureWarning: Pass y=[-0.00118645  0.00032133 -0.00018354 ...  0.          0.\n",
      "  0.        ] as keyword args. From version 0.10 passing these as positional arguments will result in an error\n",
      "  \n",
      "C:\\Users\\youss\\AppData\\Roaming\\Python\\Python37\\site-packages\\ipykernel_launcher.py:2: FutureWarning: Pass y=[-0.00040319  0.00012017 -0.00011923 ...  0.          0.\n",
      "  0.        ] as keyword args. From version 0.10 passing these as positional arguments will result in an error\n",
      "  \n",
      "C:\\Users\\youss\\AppData\\Roaming\\Python\\Python37\\site-packages\\ipykernel_launcher.py:2: FutureWarning: Pass y=[ 0.00118645 -0.00032133  0.00018354 ...  0.          0.\n",
      "  0.        ] as keyword args. From version 0.10 passing these as positional arguments will result in an error\n",
      "  \n",
      "C:\\Users\\youss\\AppData\\Roaming\\Python\\Python37\\site-packages\\ipykernel_launcher.py:2: FutureWarning: Pass y=[0.00013654 0.00073501 0.00067857 ... 0.         0.         0.        ] as keyword args. From version 0.10 passing these as positional arguments will result in an error\n",
      "  \n"
     ]
    },
    {
     "name": "stderr",
     "output_type": "stream",
     "text": [
      "C:\\Users\\youss\\AppData\\Roaming\\Python\\Python37\\site-packages\\ipykernel_launcher.py:2: FutureWarning: Pass y=[-0.00257328 -0.00106658  0.0025126  ...  0.          0.\n",
      "  0.        ] as keyword args. From version 0.10 passing these as positional arguments will result in an error\n",
      "  \n",
      "C:\\Users\\youss\\AppData\\Roaming\\Python\\Python37\\site-packages\\ipykernel_launcher.py:2: FutureWarning: Pass y=[0.00338002 0.00612419 0.00750168 ... 0.         0.         0.        ] as keyword args. From version 0.10 passing these as positional arguments will result in an error\n",
      "  \n",
      "C:\\Users\\youss\\AppData\\Roaming\\Python\\Python37\\site-packages\\ipykernel_launcher.py:2: FutureWarning: Pass y=[ 0.00257328  0.00106658 -0.0025126  ...  0.          0.\n",
      "  0.        ] as keyword args. From version 0.10 passing these as positional arguments will result in an error\n",
      "  \n",
      "C:\\Users\\youss\\AppData\\Roaming\\Python\\Python37\\site-packages\\ipykernel_launcher.py:2: FutureWarning: Pass y=[ 0.00455768 -0.0056181  -0.02562166 ...  0.          0.\n",
      "  0.        ] as keyword args. From version 0.10 passing these as positional arguments will result in an error\n",
      "  \n",
      "C:\\Users\\youss\\AppData\\Roaming\\Python\\Python37\\site-packages\\ipykernel_launcher.py:2: FutureWarning: Pass y=[-4.7055440e-04  4.5908437e-05 -2.5931379e-04 ...  0.0000000e+00\n",
      "  0.0000000e+00  0.0000000e+00] as keyword args. From version 0.10 passing these as positional arguments will result in an error\n",
      "  \n",
      "C:\\Users\\youss\\AppData\\Roaming\\Python\\Python37\\site-packages\\ipykernel_launcher.py:2: FutureWarning: Pass y=[ 0.00112894 -0.00031318  0.00015973 ...  0.          0.\n",
      "  0.        ] as keyword args. From version 0.10 passing these as positional arguments will result in an error\n",
      "  \n",
      "C:\\Users\\youss\\AppData\\Roaming\\Python\\Python37\\site-packages\\ipykernel_launcher.py:2: FutureWarning: Pass y=[ 4.7055440e-04 -4.5908437e-05  2.5931379e-04 ...  0.0000000e+00\n",
      "  0.0000000e+00  0.0000000e+00] as keyword args. From version 0.10 passing these as positional arguments will result in an error\n",
      "  \n",
      "C:\\Users\\youss\\AppData\\Roaming\\Python\\Python37\\site-packages\\ipykernel_launcher.py:2: FutureWarning: Pass y=[ 0.00339105  0.00609094 -0.00516429 ...  0.          0.\n",
      "  0.        ] as keyword args. From version 0.10 passing these as positional arguments will result in an error\n",
      "  \n",
      "C:\\Users\\youss\\AppData\\Roaming\\Python\\Python37\\site-packages\\ipykernel_launcher.py:2: FutureWarning: Pass y=[-1.8362624e-04  4.5042299e-05 -3.1008585e-05 ...  0.0000000e+00\n",
      "  0.0000000e+00  0.0000000e+00] as keyword args. From version 0.10 passing these as positional arguments will result in an error\n",
      "  \n",
      "C:\\Users\\youss\\AppData\\Roaming\\Python\\Python37\\site-packages\\ipykernel_launcher.py:2: FutureWarning: Pass y=[ 0.002214   -0.00060335  0.00035484 ...  0.          0.\n",
      "  0.        ] as keyword args. From version 0.10 passing these as positional arguments will result in an error\n",
      "  \n",
      "C:\\Users\\youss\\AppData\\Roaming\\Python\\Python37\\site-packages\\ipykernel_launcher.py:2: FutureWarning: Pass y=[-0.00135283  0.00039782 -0.00018885 ...  0.          0.\n",
      "  0.        ] as keyword args. From version 0.10 passing these as positional arguments will result in an error\n",
      "  \n",
      "C:\\Users\\youss\\AppData\\Roaming\\Python\\Python37\\site-packages\\ipykernel_launcher.py:2: FutureWarning: Pass y=[-0.00102106  0.00066196 -0.00014749 ...  0.          0.\n",
      "  0.        ] as keyword args. From version 0.10 passing these as positional arguments will result in an error\n",
      "  \n",
      "C:\\Users\\youss\\AppData\\Roaming\\Python\\Python37\\site-packages\\ipykernel_launcher.py:2: FutureWarning: Pass y=[-0.00030331  0.00438883  0.00330321 ...  0.          0.\n",
      "  0.        ] as keyword args. From version 0.10 passing these as positional arguments will result in an error\n",
      "  \n",
      "C:\\Users\\youss\\AppData\\Roaming\\Python\\Python37\\site-packages\\ipykernel_launcher.py:2: FutureWarning: Pass y=[ 0.00115777 -0.00027756  0.00018779 ...  0.          0.\n",
      "  0.        ] as keyword args. From version 0.10 passing these as positional arguments will result in an error\n",
      "  \n",
      "C:\\Users\\youss\\AppData\\Roaming\\Python\\Python37\\site-packages\\ipykernel_launcher.py:2: FutureWarning: Pass y=[ 0.0013102  -0.00076203 -0.00483978 ...  0.          0.\n",
      "  0.        ] as keyword args. From version 0.10 passing these as positional arguments will result in an error\n",
      "  \n",
      "C:\\Users\\youss\\AppData\\Roaming\\Python\\Python37\\site-packages\\ipykernel_launcher.py:2: FutureWarning: Pass y=[-0.00010465 -0.00058008 -0.00041846 ...  0.          0.\n",
      "  0.        ] as keyword args. From version 0.10 passing these as positional arguments will result in an error\n",
      "  \n",
      "C:\\Users\\youss\\AppData\\Roaming\\Python\\Python37\\site-packages\\ipykernel_launcher.py:2: FutureWarning: Pass y=[-0.00025487  0.00036581  0.00013159 ...  0.          0.\n",
      "  0.        ] as keyword args. From version 0.10 passing these as positional arguments will result in an error\n",
      "  \n",
      "C:\\Users\\youss\\AppData\\Roaming\\Python\\Python37\\site-packages\\ipykernel_launcher.py:2: FutureWarning: Pass y=[ 1.3112436e-03 -3.6013276e-05  4.5423137e-04 ...  0.0000000e+00\n",
      "  0.0000000e+00  0.0000000e+00] as keyword args. From version 0.10 passing these as positional arguments will result in an error\n",
      "  \n",
      "C:\\Users\\youss\\AppData\\Roaming\\Python\\Python37\\site-packages\\ipykernel_launcher.py:2: FutureWarning: Pass y=[-0.02746253 -0.04347317 -0.04074317 ...  0.          0.\n",
      "  0.        ] as keyword args. From version 0.10 passing these as positional arguments will result in an error\n",
      "  \n",
      "C:\\Users\\youss\\AppData\\Roaming\\Python\\Python37\\site-packages\\ipykernel_launcher.py:2: FutureWarning: Pass y=[ 0.00217217 -0.00043784  0.00036231 ...  0.          0.\n",
      "  0.        ] as keyword args. From version 0.10 passing these as positional arguments will result in an error\n",
      "  \n",
      "C:\\Users\\youss\\AppData\\Roaming\\Python\\Python37\\site-packages\\ipykernel_launcher.py:2: FutureWarning: Pass y=[ 0.00017311 -0.00011897 -0.00011988 ...  0.          0.\n",
      "  0.        ] as keyword args. From version 0.10 passing these as positional arguments will result in an error\n",
      "  \n",
      "C:\\Users\\youss\\AppData\\Roaming\\Python\\Python37\\site-packages\\ipykernel_launcher.py:2: FutureWarning: Pass y=[-0.027167   -0.04016497 -0.03313308 ...  0.          0.\n",
      "  0.        ] as keyword args. From version 0.10 passing these as positional arguments will result in an error\n",
      "  \n",
      "C:\\Users\\youss\\AppData\\Roaming\\Python\\Python37\\site-packages\\ipykernel_launcher.py:2: FutureWarning: Pass y=[ 8.0159953e-05 -1.2206958e-04  3.0798442e-04 ...  0.0000000e+00\n",
      "  0.0000000e+00  0.0000000e+00] as keyword args. From version 0.10 passing these as positional arguments will result in an error\n",
      "  \n",
      "C:\\Users\\youss\\AppData\\Roaming\\Python\\Python37\\site-packages\\ipykernel_launcher.py:2: FutureWarning: Pass y=[-0.00138129  0.00024654 -0.0004675  ...  0.          0.\n",
      "  0.        ] as keyword args. From version 0.10 passing these as positional arguments will result in an error\n",
      "  \n",
      "C:\\Users\\youss\\AppData\\Roaming\\Python\\Python37\\site-packages\\ipykernel_launcher.py:2: FutureWarning: Pass y=[ 0.00212517 -0.00074558  0.0004469  ...  0.          0.\n",
      "  0.        ] as keyword args. From version 0.10 passing these as positional arguments will result in an error\n",
      "  \n",
      "C:\\Users\\youss\\AppData\\Roaming\\Python\\Python37\\site-packages\\ipykernel_launcher.py:2: FutureWarning: Pass y=[-0.00053456 -0.0001987  -0.0002834  ...  0.          0.\n",
      "  0.        ] as keyword args. From version 0.10 passing these as positional arguments will result in an error\n",
      "  \n",
      "C:\\Users\\youss\\AppData\\Roaming\\Python\\Python37\\site-packages\\ipykernel_launcher.py:2: FutureWarning: Pass y=[-0.01266104 -0.01961199 -0.00779367 ...  0.          0.\n",
      "  0.        ] as keyword args. From version 0.10 passing these as positional arguments will result in an error\n",
      "  \n",
      "C:\\Users\\youss\\AppData\\Roaming\\Python\\Python37\\site-packages\\ipykernel_launcher.py:2: FutureWarning: Pass y=[-0.0052266  -0.00676273 -0.00288194 ...  0.          0.\n",
      "  0.        ] as keyword args. From version 0.10 passing these as positional arguments will result in an error\n",
      "  \n",
      "C:\\Users\\youss\\AppData\\Roaming\\Python\\Python37\\site-packages\\ipykernel_launcher.py:2: FutureWarning: Pass y=[0.01266104 0.01961199 0.00779367 ... 0.         0.         0.        ] as keyword args. From version 0.10 passing these as positional arguments will result in an error\n",
      "  \n",
      "C:\\Users\\youss\\AppData\\Roaming\\Python\\Python37\\site-packages\\ipykernel_launcher.py:2: FutureWarning: Pass y=[-1.04787193e-03 -2.07253163e-03  6.20541080e-05 ...  0.00000000e+00\n",
      "  0.00000000e+00  0.00000000e+00] as keyword args. From version 0.10 passing these as positional arguments will result in an error\n",
      "  \n",
      "C:\\Users\\youss\\AppData\\Roaming\\Python\\Python37\\site-packages\\ipykernel_launcher.py:2: FutureWarning: Pass y=[-4.0852621e-05 -7.2208659e-06 -1.2979964e-04 ...  0.0000000e+00\n",
      "  0.0000000e+00  0.0000000e+00] as keyword args. From version 0.10 passing these as positional arguments will result in an error\n",
      "  \n",
      "C:\\Users\\youss\\AppData\\Roaming\\Python\\Python37\\site-packages\\ipykernel_launcher.py:2: FutureWarning: Pass y=[ 0.00041536 -0.00035263  0.00031314 ...  0.          0.\n",
      "  0.        ] as keyword args. From version 0.10 passing these as positional arguments will result in an error\n",
      "  \n",
      "C:\\Users\\youss\\AppData\\Roaming\\Python\\Python37\\site-packages\\ipykernel_launcher.py:2: FutureWarning: Pass y=[4.0852621e-05 7.2208659e-06 1.2979964e-04 ... 0.0000000e+00 0.0000000e+00\n",
      " 0.0000000e+00] as keyword args. From version 0.10 passing these as positional arguments will result in an error\n",
      "  \n"
     ]
    },
    {
     "name": "stderr",
     "output_type": "stream",
     "text": [
      "C:\\Users\\youss\\AppData\\Roaming\\Python\\Python37\\site-packages\\ipykernel_launcher.py:2: FutureWarning: Pass y=[-5.67000147e-05 -4.58989846e-04  1.84396745e-04 ...  0.00000000e+00\n",
      "  0.00000000e+00  0.00000000e+00] as keyword args. From version 0.10 passing these as positional arguments will result in an error\n",
      "  \n",
      "C:\\Users\\youss\\AppData\\Roaming\\Python\\Python37\\site-packages\\ipykernel_launcher.py:2: FutureWarning: Pass y=[ 3.3553297e-04  1.8229381e-05 -1.2205103e-03 ...  0.0000000e+00\n",
      "  0.0000000e+00  0.0000000e+00] as keyword args. From version 0.10 passing these as positional arguments will result in an error\n",
      "  \n",
      "C:\\Users\\youss\\AppData\\Roaming\\Python\\Python37\\site-packages\\ipykernel_launcher.py:2: FutureWarning: Pass y=[-0.00011005 -0.00027179 -0.0003402  ...  0.          0.\n",
      "  0.        ] as keyword args. From version 0.10 passing these as positional arguments will result in an error\n",
      "  \n",
      "C:\\Users\\youss\\AppData\\Roaming\\Python\\Python37\\site-packages\\ipykernel_launcher.py:2: FutureWarning: Pass y=[-3.3553297e-04 -1.8229381e-05  1.2205103e-03 ...  0.0000000e+00\n",
      "  0.0000000e+00  0.0000000e+00] as keyword args. From version 0.10 passing these as positional arguments will result in an error\n",
      "  \n",
      "C:\\Users\\youss\\AppData\\Roaming\\Python\\Python37\\site-packages\\ipykernel_launcher.py:2: FutureWarning: Pass y=[-0.00080347 -0.0008821   0.00443834 ...  0.          0.\n",
      "  0.        ] as keyword args. From version 0.10 passing these as positional arguments will result in an error\n",
      "  \n",
      "C:\\Users\\youss\\AppData\\Roaming\\Python\\Python37\\site-packages\\ipykernel_launcher.py:2: FutureWarning: Pass y=[-1.4109320e-04 -1.2046099e-04 -3.9799270e-05 ...  0.0000000e+00\n",
      "  0.0000000e+00  0.0000000e+00] as keyword args. From version 0.10 passing these as positional arguments will result in an error\n",
      "  \n",
      "C:\\Users\\youss\\AppData\\Roaming\\Python\\Python37\\site-packages\\ipykernel_launcher.py:2: FutureWarning: Pass y=[-5.11716742e-05  5.49200538e-05  6.36235627e-05 ...  0.00000000e+00\n",
      "  0.00000000e+00  0.00000000e+00] as keyword args. From version 0.10 passing these as positional arguments will result in an error\n",
      "  \n",
      "C:\\Users\\youss\\AppData\\Roaming\\Python\\Python37\\site-packages\\ipykernel_launcher.py:2: FutureWarning: Pass y=[1.4109320e-04 1.2046099e-04 3.9799270e-05 ... 0.0000000e+00 0.0000000e+00\n",
      " 0.0000000e+00] as keyword args. From version 0.10 passing these as positional arguments will result in an error\n",
      "  \n",
      "C:\\Users\\youss\\AppData\\Roaming\\Python\\Python37\\site-packages\\ipykernel_launcher.py:2: FutureWarning: Pass y=[-0.01208346  0.00123223 -0.00763977 ...  0.          0.\n",
      "  0.        ] as keyword args. From version 0.10 passing these as positional arguments will result in an error\n",
      "  \n",
      "C:\\Users\\youss\\AppData\\Roaming\\Python\\Python37\\site-packages\\ipykernel_launcher.py:2: FutureWarning: Pass y=[ 0.00020713 -0.00036689  0.00025972 ...  0.          0.\n",
      "  0.        ] as keyword args. From version 0.10 passing these as positional arguments will result in an error\n",
      "  \n",
      "C:\\Users\\youss\\AppData\\Roaming\\Python\\Python37\\site-packages\\ipykernel_launcher.py:2: FutureWarning: Pass y=[0.00017173 0.00043099 0.00035571 ... 0.         0.         0.        ] as keyword args. From version 0.10 passing these as positional arguments will result in an error\n",
      "  \n",
      "C:\\Users\\youss\\AppData\\Roaming\\Python\\Python37\\site-packages\\ipykernel_launcher.py:2: FutureWarning: Pass y=[-0.00018523  0.00013746  0.00022694 ...  0.          0.\n",
      "  0.        ] as keyword args. From version 0.10 passing these as positional arguments will result in an error\n",
      "  \n",
      "C:\\Users\\youss\\AppData\\Roaming\\Python\\Python37\\site-packages\\ipykernel_launcher.py:2: FutureWarning: Pass y=[-0.00259039 -0.00233222 -0.00143513 ...  0.          0.\n",
      "  0.        ] as keyword args. From version 0.10 passing these as positional arguments will result in an error\n",
      "  \n",
      "C:\\Users\\youss\\AppData\\Roaming\\Python\\Python37\\site-packages\\ipykernel_launcher.py:2: FutureWarning: Pass y=[ 0.00692363 -0.01299281 -0.04235371 ...  0.          0.\n",
      "  0.        ] as keyword args. From version 0.10 passing these as positional arguments will result in an error\n",
      "  \n",
      "C:\\Users\\youss\\AppData\\Roaming\\Python\\Python37\\site-packages\\ipykernel_launcher.py:2: FutureWarning: Pass y=[-1.2782741e-04 -2.1597920e-05 -2.7617670e-04 ...  0.0000000e+00\n",
      "  0.0000000e+00  0.0000000e+00] as keyword args. From version 0.10 passing these as positional arguments will result in an error\n",
      "  \n",
      "C:\\Users\\youss\\AppData\\Roaming\\Python\\Python37\\site-packages\\ipykernel_launcher.py:2: FutureWarning: Pass y=[4.0065854e-05 2.3526142e-04 2.1436915e-04 ... 0.0000000e+00 0.0000000e+00\n",
      " 0.0000000e+00] as keyword args. From version 0.10 passing these as positional arguments will result in an error\n",
      "  \n",
      "C:\\Users\\youss\\AppData\\Roaming\\Python\\Python37\\site-packages\\ipykernel_launcher.py:2: FutureWarning: Pass y=[-0.00049592 -0.00041911 -0.00022992 ...  0.          0.\n",
      "  0.        ] as keyword args. From version 0.10 passing these as positional arguments will result in an error\n",
      "  \n",
      "C:\\Users\\youss\\AppData\\Roaming\\Python\\Python37\\site-packages\\ipykernel_launcher.py:2: FutureWarning: Pass y=[-0.00021137 -0.00027759 -0.00035037 ...  0.          0.\n",
      "  0.        ] as keyword args. From version 0.10 passing these as positional arguments will result in an error\n",
      "  \n",
      "C:\\Users\\youss\\AppData\\Roaming\\Python\\Python37\\site-packages\\ipykernel_launcher.py:2: FutureWarning: Pass y=[-0.07720868 -0.0582753  -0.02021853 ...  0.          0.\n",
      "  0.        ] as keyword args. From version 0.10 passing these as positional arguments will result in an error\n",
      "  \n",
      "C:\\Users\\youss\\AppData\\Roaming\\Python\\Python37\\site-packages\\ipykernel_launcher.py:2: FutureWarning: Pass y=[0.00707499 0.01241075 0.01621819 ... 0.         0.         0.        ] as keyword args. From version 0.10 passing these as positional arguments will result in an error\n",
      "  \n",
      "C:\\Users\\youss\\AppData\\Roaming\\Python\\Python37\\site-packages\\ipykernel_launcher.py:2: FutureWarning: Pass y=[ 1.3988813e-04 -8.5352862e-05  5.7856272e-05 ...  0.0000000e+00\n",
      "  0.0000000e+00  0.0000000e+00] as keyword args. From version 0.10 passing these as positional arguments will result in an error\n",
      "  \n",
      "C:\\Users\\youss\\AppData\\Roaming\\Python\\Python37\\site-packages\\ipykernel_launcher.py:2: FutureWarning: Pass y=[-2.02149380e-05 -2.31093157e-05 -1.33330137e-04 ...  0.00000000e+00\n",
      "  0.00000000e+00  0.00000000e+00] as keyword args. From version 0.10 passing these as positional arguments will result in an error\n",
      "  \n",
      "C:\\Users\\youss\\AppData\\Roaming\\Python\\Python37\\site-packages\\ipykernel_launcher.py:2: FutureWarning: Pass y=[-1.3988813e-04  8.5352862e-05 -5.7856272e-05 ...  0.0000000e+00\n",
      "  0.0000000e+00  0.0000000e+00] as keyword args. From version 0.10 passing these as positional arguments will result in an error\n",
      "  \n",
      "C:\\Users\\youss\\AppData\\Roaming\\Python\\Python37\\site-packages\\ipykernel_launcher.py:2: FutureWarning: Pass y=[ 0.00391149 -0.00678515  0.01153032 ...  0.04809407  0.00872433\n",
      "  0.00373948] as keyword args. From version 0.10 passing these as positional arguments will result in an error\n",
      "  \n",
      "C:\\Users\\youss\\AppData\\Roaming\\Python\\Python37\\site-packages\\ipykernel_launcher.py:2: FutureWarning: Pass y=[-1.8251258e-04 -2.7692382e-04  6.7520654e-05 ... -4.3898376e-04\n",
      "  3.5102991e-04 -2.7910856e-04] as keyword args. From version 0.10 passing these as positional arguments will result in an error\n",
      "  \n",
      "C:\\Users\\youss\\AppData\\Roaming\\Python\\Python37\\site-packages\\ipykernel_launcher.py:2: FutureWarning: Pass y=[-1.04884167e-05  7.67130186e-05 -2.03549475e-04 ... -3.41336589e-07\n",
      " -5.84240519e-05 -7.37277499e-05] as keyword args. From version 0.10 passing these as positional arguments will result in an error\n",
      "  \n",
      "C:\\Users\\youss\\AppData\\Roaming\\Python\\Python37\\site-packages\\ipykernel_launcher.py:2: FutureWarning: Pass y=[ 1.8251258e-04  2.7692382e-04 -6.7520654e-05 ...  4.3898376e-04\n",
      " -3.5102991e-04  2.7910856e-04] as keyword args. From version 0.10 passing these as positional arguments will result in an error\n",
      "  \n",
      "C:\\Users\\youss\\AppData\\Roaming\\Python\\Python37\\site-packages\\ipykernel_launcher.py:2: FutureWarning: Pass y=[ 7.95814679e-03 -1.52746353e-02 -2.17137798e-03 ...  1.21868006e-02\n",
      "  1.30414170e-02  5.82357384e-05] as keyword args. From version 0.10 passing these as positional arguments will result in an error\n",
      "  \n"
     ]
    },
    {
     "ename": "ValueError",
     "evalue": "invalid number of data points (0) specified",
     "output_type": "error",
     "traceback": [
      "\u001b[1;31m---------------------------------------------------------------------------\u001b[0m",
      "\u001b[1;31mValueError\u001b[0m                                Traceback (most recent call last)",
      "\u001b[1;32m~\\AppData\\Local\\Temp\\ipykernel_49628\\240154825.py\u001b[0m in \u001b[0;36m<module>\u001b[1;34m\u001b[0m\n\u001b[0;32m     17\u001b[0m                 \u001b[0msignals\u001b[0m\u001b[1;33m=\u001b[0m\u001b[0maudio_augmantation\u001b[0m\u001b[1;33m(\u001b[0m\u001b[0msignal\u001b[0m\u001b[1;33m,\u001b[0m\u001b[0msample_rate\u001b[0m\u001b[1;33m)\u001b[0m\u001b[1;33m\u001b[0m\u001b[0m\n\u001b[0;32m     18\u001b[0m                 \u001b[1;32mfor\u001b[0m \u001b[0mi\u001b[0m \u001b[1;32min\u001b[0m \u001b[0msignals\u001b[0m\u001b[1;33m:\u001b[0m\u001b[1;33m\u001b[0m\u001b[0m\n\u001b[1;32m---> 19\u001b[1;33m                     \u001b[0msampled_signal\u001b[0m\u001b[1;33m,\u001b[0m \u001b[0mnew_rate\u001b[0m\u001b[1;33m=\u001b[0m\u001b[0msampling_triming\u001b[0m\u001b[1;33m(\u001b[0m\u001b[0mi\u001b[0m\u001b[1;33m,\u001b[0m\u001b[0msample_rate\u001b[0m\u001b[1;33m,\u001b[0m\u001b[1;36m8000\u001b[0m\u001b[1;33m)\u001b[0m\u001b[1;33m\u001b[0m\u001b[0m\n\u001b[0m\u001b[0;32m     20\u001b[0m                     \u001b[0msampled_signal\u001b[0m\u001b[1;33m=\u001b[0m \u001b[0mlibrosa\u001b[0m\u001b[1;33m.\u001b[0m\u001b[0mutil\u001b[0m\u001b[1;33m.\u001b[0m\u001b[0mfix_length\u001b[0m\u001b[1;33m(\u001b[0m\u001b[0msampled_signal\u001b[0m\u001b[1;33m,\u001b[0m \u001b[0mint\u001b[0m\u001b[1;33m(\u001b[0m\u001b[1;36m2.1\u001b[0m\u001b[1;33m*\u001b[0m\u001b[0mnew_rate\u001b[0m\u001b[1;33m)\u001b[0m\u001b[1;33m)\u001b[0m\u001b[1;33m\u001b[0m\u001b[0m\n\u001b[0;32m     21\u001b[0m                     \u001b[0mdelta\u001b[0m\u001b[1;33m=\u001b[0m\u001b[0mmfcc\u001b[0m\u001b[1;33m(\u001b[0m\u001b[0msampled_signal\u001b[0m\u001b[1;33m,\u001b[0m\u001b[0mnew_rate\u001b[0m\u001b[1;33m)\u001b[0m\u001b[1;33m\u001b[0m\u001b[0m\n",
      "\u001b[1;32m~\\AppData\\Local\\Temp\\ipykernel_49628\\2380713329.py\u001b[0m in \u001b[0;36msampling_triming\u001b[1;34m(signal, sample_rate, new_rate)\u001b[0m\n\u001b[0;32m      1\u001b[0m \u001b[1;32mdef\u001b[0m \u001b[0msampling_triming\u001b[0m\u001b[1;33m(\u001b[0m\u001b[0msignal\u001b[0m\u001b[1;33m,\u001b[0m \u001b[0msample_rate\u001b[0m\u001b[1;33m,\u001b[0m\u001b[0mnew_rate\u001b[0m\u001b[1;33m)\u001b[0m\u001b[1;33m:\u001b[0m\u001b[1;33m\u001b[0m\u001b[0m\n\u001b[0;32m      2\u001b[0m     \u001b[0msignal\u001b[0m\u001b[1;33m,\u001b[0m\u001b[0mslicer\u001b[0m \u001b[1;33m=\u001b[0m\u001b[0mlibrosa\u001b[0m\u001b[1;33m.\u001b[0m\u001b[0meffects\u001b[0m\u001b[1;33m.\u001b[0m\u001b[0mtrim\u001b[0m\u001b[1;33m(\u001b[0m\u001b[0msignal\u001b[0m\u001b[1;33m,\u001b[0m\u001b[0mtop_db\u001b[0m\u001b[1;33m=\u001b[0m\u001b[1;36m55\u001b[0m\u001b[1;33m)\u001b[0m\u001b[1;33m\u001b[0m\u001b[0m\n\u001b[1;32m----> 3\u001b[1;33m     \u001b[0msampled_signal\u001b[0m\u001b[1;33m=\u001b[0m\u001b[0mscipy\u001b[0m\u001b[1;33m.\u001b[0m\u001b[0msignal\u001b[0m\u001b[1;33m.\u001b[0m\u001b[0mresample\u001b[0m\u001b[1;33m(\u001b[0m\u001b[0msignal\u001b[0m\u001b[1;33m[\u001b[0m\u001b[0mslicer\u001b[0m\u001b[1;33m[\u001b[0m\u001b[1;36m0\u001b[0m\u001b[1;33m]\u001b[0m\u001b[1;33m:\u001b[0m\u001b[0mslicer\u001b[0m\u001b[1;33m[\u001b[0m\u001b[1;36m1\u001b[0m\u001b[1;33m]\u001b[0m\u001b[1;33m]\u001b[0m\u001b[1;33m,\u001b[0m\u001b[0mint\u001b[0m\u001b[1;33m(\u001b[0m\u001b[1;33m(\u001b[0m\u001b[0mnew_rate\u001b[0m\u001b[1;33m/\u001b[0m\u001b[0msample_rate\u001b[0m\u001b[1;33m)\u001b[0m\u001b[1;33m*\u001b[0m\u001b[0msignal\u001b[0m\u001b[1;33m.\u001b[0m\u001b[0mshape\u001b[0m\u001b[1;33m[\u001b[0m\u001b[1;36m0\u001b[0m\u001b[1;33m]\u001b[0m\u001b[1;33m)\u001b[0m\u001b[1;33m)\u001b[0m\u001b[1;33m\u001b[0m\u001b[0m\n\u001b[0m\u001b[0;32m      4\u001b[0m     \u001b[1;32mreturn\u001b[0m \u001b[0msampled_signal\u001b[0m\u001b[1;33m,\u001b[0m \u001b[0mnew_rate\u001b[0m\u001b[1;33m\u001b[0m\u001b[0m\n",
      "\u001b[1;32mc:\\python37\\lib\\site-packages\\scipy\\signal\\signaltools.py\u001b[0m in \u001b[0;36mresample\u001b[1;34m(x, num, t, axis, window, domain)\u001b[0m\n\u001b[0;32m   3029\u001b[0m         \u001b[1;31m# Forward transform\u001b[0m\u001b[1;33m\u001b[0m\u001b[1;33m\u001b[0m\u001b[0m\n\u001b[0;32m   3030\u001b[0m         \u001b[1;32mif\u001b[0m \u001b[0mreal_input\u001b[0m\u001b[1;33m:\u001b[0m\u001b[1;33m\u001b[0m\u001b[0m\n\u001b[1;32m-> 3031\u001b[1;33m             \u001b[0mX\u001b[0m \u001b[1;33m=\u001b[0m \u001b[0msp_fft\u001b[0m\u001b[1;33m.\u001b[0m\u001b[0mrfft\u001b[0m\u001b[1;33m(\u001b[0m\u001b[0mx\u001b[0m\u001b[1;33m,\u001b[0m \u001b[0maxis\u001b[0m\u001b[1;33m=\u001b[0m\u001b[0maxis\u001b[0m\u001b[1;33m)\u001b[0m\u001b[1;33m\u001b[0m\u001b[0m\n\u001b[0m\u001b[0;32m   3032\u001b[0m         \u001b[1;32melse\u001b[0m\u001b[1;33m:\u001b[0m  \u001b[1;31m# Full complex FFT\u001b[0m\u001b[1;33m\u001b[0m\u001b[0m\n\u001b[0;32m   3033\u001b[0m             \u001b[0mX\u001b[0m \u001b[1;33m=\u001b[0m \u001b[0msp_fft\u001b[0m\u001b[1;33m.\u001b[0m\u001b[0mfft\u001b[0m\u001b[1;33m(\u001b[0m\u001b[0mx\u001b[0m\u001b[1;33m,\u001b[0m \u001b[0maxis\u001b[0m\u001b[1;33m=\u001b[0m\u001b[0maxis\u001b[0m\u001b[1;33m)\u001b[0m\u001b[1;33m\u001b[0m\u001b[0m\n",
      "\u001b[1;32mc:\\python37\\lib\\site-packages\\scipy\\fft\\_backend.py\u001b[0m in \u001b[0;36m__ua_function__\u001b[1;34m(method, args, kwargs)\u001b[0m\n\u001b[0;32m     21\u001b[0m         \u001b[1;32mif\u001b[0m \u001b[0mfn\u001b[0m \u001b[1;32mis\u001b[0m \u001b[1;32mNone\u001b[0m\u001b[1;33m:\u001b[0m\u001b[1;33m\u001b[0m\u001b[0m\n\u001b[0;32m     22\u001b[0m             \u001b[1;32mreturn\u001b[0m \u001b[0mNotImplemented\u001b[0m\u001b[1;33m\u001b[0m\u001b[0m\n\u001b[1;32m---> 23\u001b[1;33m         \u001b[1;32mreturn\u001b[0m \u001b[0mfn\u001b[0m\u001b[1;33m(\u001b[0m\u001b[1;33m*\u001b[0m\u001b[0margs\u001b[0m\u001b[1;33m,\u001b[0m \u001b[1;33m**\u001b[0m\u001b[0mkwargs\u001b[0m\u001b[1;33m)\u001b[0m\u001b[1;33m\u001b[0m\u001b[0m\n\u001b[0m\u001b[0;32m     24\u001b[0m \u001b[1;33m\u001b[0m\u001b[0m\n\u001b[0;32m     25\u001b[0m \u001b[1;33m\u001b[0m\u001b[0m\n",
      "\u001b[1;32mc:\\python37\\lib\\site-packages\\scipy\\fft\\_pocketfft\\basic.py\u001b[0m in \u001b[0;36mr2c\u001b[1;34m(forward, x, n, axis, norm, overwrite_x, workers, plan)\u001b[0m\n\u001b[0;32m     57\u001b[0m     \u001b[1;32melif\u001b[0m \u001b[0mtmp\u001b[0m\u001b[1;33m.\u001b[0m\u001b[0mshape\u001b[0m\u001b[1;33m[\u001b[0m\u001b[0maxis\u001b[0m\u001b[1;33m]\u001b[0m \u001b[1;33m<\u001b[0m \u001b[1;36m1\u001b[0m\u001b[1;33m:\u001b[0m\u001b[1;33m\u001b[0m\u001b[0m\n\u001b[0;32m     58\u001b[0m         raise ValueError(\"invalid number of data points ({0}) specified\"\n\u001b[1;32m---> 59\u001b[1;33m                          .format(tmp.shape[axis]))\n\u001b[0m\u001b[0;32m     60\u001b[0m \u001b[1;33m\u001b[0m\u001b[0m\n\u001b[0;32m     61\u001b[0m     \u001b[1;31m# Note: overwrite_x is not utilised\u001b[0m\u001b[1;33m\u001b[0m\u001b[1;33m\u001b[0m\u001b[0m\n",
      "\u001b[1;31mValueError\u001b[0m: invalid number of data points (0) specified"
     ]
    }
   ],
   "source": [
    "path= \"DSP Task 3\"\n",
    "X= np.zeros(4224)\n",
    "Words=np.array([])\n",
    "Members=np.array([])\n",
    "for team in os.listdir(path):\n",
    "    for words in os.listdir(os.path.join(path,team)):\n",
    "        if words==\"Close the door\":\n",
    "            continue\n",
    "        for members in os.listdir(os.path.join(path,team,words)):\n",
    "            counter=0\n",
    "            for audio in os.listdir(os.path.join(path,team,words,members)):\n",
    "                counter+=1\n",
    "                try:\n",
    "                    signal, sample_rate=librosa.load(os.path.join(path,team,words,members,audio))\n",
    "                except:\n",
    "                    continue\n",
    "                signals=audio_augmantation(signal,sample_rate)\n",
    "                for i in signals:\n",
    "                    sampled_signal, new_rate=sampling_triming(i,sample_rate,8000)\n",
    "                    sampled_signal= librosa.util.fix_length(sampled_signal, int(2.1*new_rate))\n",
    "                    delta=mfcc(sampled_signal,new_rate)\n",
    "                    X=np.vstack((X,delta))\n",
    "                    Words=np.append(Words,words )\n",
    "                    Members=np.append(Members,members )\n",
    "                    if words==\"Open the door\":\n",
    "                        if counter>=5:\n",
    "                            break"
   ]
  },
  {
   "cell_type": "code",
   "execution_count": 164,
   "id": "19824316",
   "metadata": {},
   "outputs": [
    {
     "data": {
      "text/plain": [
       "(151, 4224)"
      ]
     },
     "execution_count": 164,
     "metadata": {},
     "output_type": "execute_result"
    }
   ],
   "source": [
    "X.shape"
   ]
  },
  {
   "cell_type": "code",
   "execution_count": 165,
   "id": "b6b62e18",
   "metadata": {},
   "outputs": [],
   "source": [
    "Data=pd.DataFrame(X).drop(0)\n",
    "Data[\"Words\"]=Words\n",
    "Data[\"Members\"]=Members"
   ]
  },
  {
   "cell_type": "code",
   "execution_count": 166,
   "id": "33e7dffa",
   "metadata": {},
   "outputs": [
    {
     "data": {
      "text/html": [
       "<div>\n",
       "<style scoped>\n",
       "    .dataframe tbody tr th:only-of-type {\n",
       "        vertical-align: middle;\n",
       "    }\n",
       "\n",
       "    .dataframe tbody tr th {\n",
       "        vertical-align: top;\n",
       "    }\n",
       "\n",
       "    .dataframe thead th {\n",
       "        text-align: right;\n",
       "    }\n",
       "</style>\n",
       "<table border=\"1\" class=\"dataframe\">\n",
       "  <thead>\n",
       "    <tr style=\"text-align: right;\">\n",
       "      <th></th>\n",
       "      <th>0</th>\n",
       "      <th>1</th>\n",
       "      <th>2</th>\n",
       "      <th>3</th>\n",
       "      <th>4</th>\n",
       "      <th>5</th>\n",
       "      <th>6</th>\n",
       "      <th>7</th>\n",
       "      <th>8</th>\n",
       "      <th>9</th>\n",
       "      <th>...</th>\n",
       "      <th>4216</th>\n",
       "      <th>4217</th>\n",
       "      <th>4218</th>\n",
       "      <th>4219</th>\n",
       "      <th>4220</th>\n",
       "      <th>4221</th>\n",
       "      <th>4222</th>\n",
       "      <th>4223</th>\n",
       "      <th>Words</th>\n",
       "      <th>Members</th>\n",
       "    </tr>\n",
       "  </thead>\n",
       "  <tbody>\n",
       "    <tr>\n",
       "      <th>143</th>\n",
       "      <td>-80.000000</td>\n",
       "      <td>-80.000000</td>\n",
       "      <td>-80.000000</td>\n",
       "      <td>-80.000000</td>\n",
       "      <td>-80.000000</td>\n",
       "      <td>-80.000000</td>\n",
       "      <td>-78.264191</td>\n",
       "      <td>-60.683475</td>\n",
       "      <td>-57.539474</td>\n",
       "      <td>-63.603466</td>\n",
       "      <td>...</td>\n",
       "      <td>-66.551964</td>\n",
       "      <td>-68.976822</td>\n",
       "      <td>-75.976532</td>\n",
       "      <td>-79.031769</td>\n",
       "      <td>-80.000000</td>\n",
       "      <td>-80.000000</td>\n",
       "      <td>-80.000000</td>\n",
       "      <td>-80.000000</td>\n",
       "      <td>Wrong</td>\n",
       "      <td>Dina Hussam</td>\n",
       "    </tr>\n",
       "    <tr>\n",
       "      <th>144</th>\n",
       "      <td>-78.108431</td>\n",
       "      <td>-78.438142</td>\n",
       "      <td>-78.951289</td>\n",
       "      <td>-78.319110</td>\n",
       "      <td>-79.159029</td>\n",
       "      <td>-78.364304</td>\n",
       "      <td>-78.856428</td>\n",
       "      <td>-70.519007</td>\n",
       "      <td>-57.799074</td>\n",
       "      <td>-57.932130</td>\n",
       "      <td>...</td>\n",
       "      <td>-79.668404</td>\n",
       "      <td>-80.000000</td>\n",
       "      <td>-80.000000</td>\n",
       "      <td>-80.000000</td>\n",
       "      <td>-80.000000</td>\n",
       "      <td>-80.000000</td>\n",
       "      <td>-80.000000</td>\n",
       "      <td>-80.000000</td>\n",
       "      <td>Wrong</td>\n",
       "      <td>Dina Hussam</td>\n",
       "    </tr>\n",
       "    <tr>\n",
       "      <th>145</th>\n",
       "      <td>-80.000000</td>\n",
       "      <td>-80.000000</td>\n",
       "      <td>-80.000000</td>\n",
       "      <td>-80.000000</td>\n",
       "      <td>-80.000000</td>\n",
       "      <td>-80.000000</td>\n",
       "      <td>-78.264191</td>\n",
       "      <td>-60.683475</td>\n",
       "      <td>-57.539474</td>\n",
       "      <td>-63.603466</td>\n",
       "      <td>...</td>\n",
       "      <td>-66.551964</td>\n",
       "      <td>-68.976822</td>\n",
       "      <td>-75.976532</td>\n",
       "      <td>-79.031769</td>\n",
       "      <td>-80.000000</td>\n",
       "      <td>-80.000000</td>\n",
       "      <td>-80.000000</td>\n",
       "      <td>-80.000000</td>\n",
       "      <td>Wrong</td>\n",
       "      <td>Dina Hussam</td>\n",
       "    </tr>\n",
       "    <tr>\n",
       "      <th>146</th>\n",
       "      <td>-42.997363</td>\n",
       "      <td>-39.944747</td>\n",
       "      <td>-45.160370</td>\n",
       "      <td>-49.454536</td>\n",
       "      <td>-43.660990</td>\n",
       "      <td>-37.595904</td>\n",
       "      <td>-39.610496</td>\n",
       "      <td>-43.891171</td>\n",
       "      <td>-45.757335</td>\n",
       "      <td>-44.822639</td>\n",
       "      <td>...</td>\n",
       "      <td>-42.097841</td>\n",
       "      <td>-42.638156</td>\n",
       "      <td>-43.754606</td>\n",
       "      <td>-46.428235</td>\n",
       "      <td>-45.677203</td>\n",
       "      <td>-45.454515</td>\n",
       "      <td>-45.235027</td>\n",
       "      <td>-45.850846</td>\n",
       "      <td>Wrong</td>\n",
       "      <td>Dina Hussam</td>\n",
       "    </tr>\n",
       "    <tr>\n",
       "      <th>147</th>\n",
       "      <td>-80.000000</td>\n",
       "      <td>-80.000000</td>\n",
       "      <td>-80.000000</td>\n",
       "      <td>-80.000000</td>\n",
       "      <td>-80.000000</td>\n",
       "      <td>-80.000000</td>\n",
       "      <td>-80.000000</td>\n",
       "      <td>-80.000000</td>\n",
       "      <td>-80.000000</td>\n",
       "      <td>-80.000000</td>\n",
       "      <td>...</td>\n",
       "      <td>-41.387291</td>\n",
       "      <td>-47.124847</td>\n",
       "      <td>-53.504143</td>\n",
       "      <td>-64.307930</td>\n",
       "      <td>-65.995667</td>\n",
       "      <td>-69.358490</td>\n",
       "      <td>-70.945732</td>\n",
       "      <td>-69.265884</td>\n",
       "      <td>Wrong</td>\n",
       "      <td>Dina Hussam</td>\n",
       "    </tr>\n",
       "    <tr>\n",
       "      <th>148</th>\n",
       "      <td>-77.297390</td>\n",
       "      <td>-77.551071</td>\n",
       "      <td>-78.428040</td>\n",
       "      <td>-78.337485</td>\n",
       "      <td>-78.578054</td>\n",
       "      <td>-78.071453</td>\n",
       "      <td>-78.059482</td>\n",
       "      <td>-78.575251</td>\n",
       "      <td>-79.159234</td>\n",
       "      <td>-79.647251</td>\n",
       "      <td>...</td>\n",
       "      <td>-39.912310</td>\n",
       "      <td>-49.795948</td>\n",
       "      <td>-64.221461</td>\n",
       "      <td>-77.190589</td>\n",
       "      <td>-79.687419</td>\n",
       "      <td>-80.000000</td>\n",
       "      <td>-80.000000</td>\n",
       "      <td>-80.000000</td>\n",
       "      <td>Wrong</td>\n",
       "      <td>Dina Hussam</td>\n",
       "    </tr>\n",
       "    <tr>\n",
       "      <th>149</th>\n",
       "      <td>-80.000000</td>\n",
       "      <td>-80.000000</td>\n",
       "      <td>-80.000000</td>\n",
       "      <td>-80.000000</td>\n",
       "      <td>-80.000000</td>\n",
       "      <td>-80.000000</td>\n",
       "      <td>-80.000000</td>\n",
       "      <td>-80.000000</td>\n",
       "      <td>-80.000000</td>\n",
       "      <td>-80.000000</td>\n",
       "      <td>...</td>\n",
       "      <td>-41.387291</td>\n",
       "      <td>-47.124847</td>\n",
       "      <td>-53.504143</td>\n",
       "      <td>-64.307930</td>\n",
       "      <td>-65.995667</td>\n",
       "      <td>-69.358490</td>\n",
       "      <td>-70.945732</td>\n",
       "      <td>-69.265884</td>\n",
       "      <td>Wrong</td>\n",
       "      <td>Dina Hussam</td>\n",
       "    </tr>\n",
       "    <tr>\n",
       "      <th>150</th>\n",
       "      <td>-44.514549</td>\n",
       "      <td>-41.788420</td>\n",
       "      <td>-43.094400</td>\n",
       "      <td>-44.573849</td>\n",
       "      <td>-44.828131</td>\n",
       "      <td>-45.269137</td>\n",
       "      <td>-48.186777</td>\n",
       "      <td>-49.127749</td>\n",
       "      <td>-47.762887</td>\n",
       "      <td>-43.793901</td>\n",
       "      <td>...</td>\n",
       "      <td>-40.466276</td>\n",
       "      <td>-44.316736</td>\n",
       "      <td>-44.308555</td>\n",
       "      <td>-45.101440</td>\n",
       "      <td>-43.989778</td>\n",
       "      <td>-44.261262</td>\n",
       "      <td>-43.472112</td>\n",
       "      <td>-43.640502</td>\n",
       "      <td>Wrong</td>\n",
       "      <td>Dina Hussam</td>\n",
       "    </tr>\n",
       "  </tbody>\n",
       "</table>\n",
       "<p>8 rows × 4226 columns</p>\n",
       "</div>"
      ],
      "text/plain": [
       "             0          1          2          3          4          5  \\\n",
       "143 -80.000000 -80.000000 -80.000000 -80.000000 -80.000000 -80.000000   \n",
       "144 -78.108431 -78.438142 -78.951289 -78.319110 -79.159029 -78.364304   \n",
       "145 -80.000000 -80.000000 -80.000000 -80.000000 -80.000000 -80.000000   \n",
       "146 -42.997363 -39.944747 -45.160370 -49.454536 -43.660990 -37.595904   \n",
       "147 -80.000000 -80.000000 -80.000000 -80.000000 -80.000000 -80.000000   \n",
       "148 -77.297390 -77.551071 -78.428040 -78.337485 -78.578054 -78.071453   \n",
       "149 -80.000000 -80.000000 -80.000000 -80.000000 -80.000000 -80.000000   \n",
       "150 -44.514549 -41.788420 -43.094400 -44.573849 -44.828131 -45.269137   \n",
       "\n",
       "             6          7          8          9  ...       4216       4217  \\\n",
       "143 -78.264191 -60.683475 -57.539474 -63.603466  ... -66.551964 -68.976822   \n",
       "144 -78.856428 -70.519007 -57.799074 -57.932130  ... -79.668404 -80.000000   \n",
       "145 -78.264191 -60.683475 -57.539474 -63.603466  ... -66.551964 -68.976822   \n",
       "146 -39.610496 -43.891171 -45.757335 -44.822639  ... -42.097841 -42.638156   \n",
       "147 -80.000000 -80.000000 -80.000000 -80.000000  ... -41.387291 -47.124847   \n",
       "148 -78.059482 -78.575251 -79.159234 -79.647251  ... -39.912310 -49.795948   \n",
       "149 -80.000000 -80.000000 -80.000000 -80.000000  ... -41.387291 -47.124847   \n",
       "150 -48.186777 -49.127749 -47.762887 -43.793901  ... -40.466276 -44.316736   \n",
       "\n",
       "          4218       4219       4220       4221       4222       4223  Words  \\\n",
       "143 -75.976532 -79.031769 -80.000000 -80.000000 -80.000000 -80.000000  Wrong   \n",
       "144 -80.000000 -80.000000 -80.000000 -80.000000 -80.000000 -80.000000  Wrong   \n",
       "145 -75.976532 -79.031769 -80.000000 -80.000000 -80.000000 -80.000000  Wrong   \n",
       "146 -43.754606 -46.428235 -45.677203 -45.454515 -45.235027 -45.850846  Wrong   \n",
       "147 -53.504143 -64.307930 -65.995667 -69.358490 -70.945732 -69.265884  Wrong   \n",
       "148 -64.221461 -77.190589 -79.687419 -80.000000 -80.000000 -80.000000  Wrong   \n",
       "149 -53.504143 -64.307930 -65.995667 -69.358490 -70.945732 -69.265884  Wrong   \n",
       "150 -44.308555 -45.101440 -43.989778 -44.261262 -43.472112 -43.640502  Wrong   \n",
       "\n",
       "         Members  \n",
       "143  Dina Hussam  \n",
       "144  Dina Hussam  \n",
       "145  Dina Hussam  \n",
       "146  Dina Hussam  \n",
       "147  Dina Hussam  \n",
       "148  Dina Hussam  \n",
       "149  Dina Hussam  \n",
       "150  Dina Hussam  \n",
       "\n",
       "[8 rows x 4226 columns]"
      ]
     },
     "execution_count": 166,
     "metadata": {},
     "output_type": "execute_result"
    }
   ],
   "source": [
    "Data[Data[\"Words\"]==\"Wrong\"]"
   ]
  },
  {
   "cell_type": "code",
   "execution_count": 238,
   "id": "0ee292d4",
   "metadata": {},
   "outputs": [],
   "source": [
    "durations=[]\n",
    "for team in os.listdir(path):\n",
    "    for words in os.listdir(os.path.join(path,team)):\n",
    "        max_audio=5\n",
    "        if words==\"wrong\":\n",
    "            continue\n",
    "        for members in os.listdir(os.path.join(path,team,words)):\n",
    "            counter=0\n",
    "            for audio in os.listdir(os.path.join(path,team,words,members)):\n",
    "                counter+=1\n",
    "                try:\n",
    "                    durations.append(librosa.get_duration(filename=os.path.join(path,team,words,members,audio)))\n",
    "                except:\n",
    "                    pass\n",
    "#                 if counter>=5:\n",
    "#                     break"
   ]
  },
  {
   "cell_type": "code",
   "execution_count": 215,
   "id": "e79b70f9",
   "metadata": {},
   "outputs": [
    {
     "data": {
      "text/plain": [
       "1.7923273396164023"
      ]
     },
     "execution_count": 215,
     "metadata": {},
     "output_type": "execute_result"
    }
   ],
   "source": [
    "np.mean(durations)"
   ]
  },
  {
   "cell_type": "code",
   "execution_count": 407,
   "id": "728c9cf4",
   "metadata": {},
   "outputs": [
    {
     "name": "stderr",
     "output_type": "stream",
     "text": [
      "C:\\Users\\youss\\AppData\\Roaming\\Python\\Python37\\site-packages\\ipykernel_launcher.py:1: SettingWithCopyWarning: \n",
      "A value is trying to be set on a copy of a slice from a DataFrame\n",
      "\n",
      "See the caveats in the documentation: https://pandas.pydata.org/pandas-docs/stable/user_guide/indexing.html#returning-a-view-versus-a-copy\n",
      "  \"\"\"Entry point for launching an IPython kernel.\n"
     ]
    }
   ],
   "source": [
    "Data[\"Members\"][Data[\"Members\"].str.contains(\"|\".join([\"Romaisaa\",\"Dina Hussam\",\"Shaban\"]))==False]=\"Others\""
   ]
  },
  {
   "cell_type": "code",
   "execution_count": 91,
   "id": "72d7034c",
   "metadata": {},
   "outputs": [],
   "source": [
    "from sklearn.preprocessing import StandardScaler\n",
    "scaler= StandardScaler()\n",
    "X= scaler.fit_transform(Data.drop([\"Words\",\"Members\"],axis=1))"
   ]
  },
  {
   "cell_type": "code",
   "execution_count": 146,
   "id": "61cedcce",
   "metadata": {},
   "outputs": [
    {
     "data": {
      "text/plain": [
       "((362, 190), (91, 190), (362,), (91,))"
      ]
     },
     "execution_count": 146,
     "metadata": {},
     "output_type": "execute_result"
    }
   ],
   "source": [
    "from sklearn.model_selection import train_test_split\n",
    "X_train,X_test,y_train,y_test= train_test_split(reduced_X,Data[\"Words\"],test_size=0.2,stratify=Data[\"Words\"])\n",
    "X_train.shape , X_test.shape,y_train.shape,y_test.shape"
   ]
  },
  {
   "cell_type": "code",
   "execution_count": 151,
   "id": "a3d6444d",
   "metadata": {},
   "outputs": [
    {
     "data": {
      "text/plain": [
       "0.8571428571428571"
      ]
     },
     "execution_count": 151,
     "metadata": {},
     "output_type": "execute_result"
    }
   ],
   "source": [
    "from sklearn.ensemble import RandomForestClassifier\n",
    "clf= RandomForestClassifier(n_estimators=150,n_jobs=-1,max_depth=5)\n",
    "clf.fit(X_train,y_train)\n",
    "y_pred=clf.predict(X_test)\n",
    "np.mean(y_pred==y_test)"
   ]
  },
  {
   "cell_type": "code",
   "execution_count": 152,
   "id": "5c8a4341",
   "metadata": {},
   "outputs": [
    {
     "data": {
      "text/plain": [
       "0.9238437574886174"
      ]
     },
     "execution_count": 152,
     "metadata": {},
     "output_type": "execute_result"
    }
   ],
   "source": [
    "from sklearn.metrics import f1_score\n",
    "f1_score(y_true=y_test==\"Open the door\",y_pred=new_y_pred,average=\"weighted\")"
   ]
  },
  {
   "cell_type": "code",
   "execution_count": 153,
   "id": "100134c3",
   "metadata": {},
   "outputs": [
    {
     "data": {
      "text/plain": [
       "array([[56,  0],\n",
       "       [13, 22]], dtype=int64)"
      ]
     },
     "execution_count": 153,
     "metadata": {},
     "output_type": "execute_result"
    }
   ],
   "source": [
    "from sklearn.metrics import confusion_matrix\n",
    "confusion_matrix(y_true=y_test,y_pred=y_pred)"
   ]
  },
  {
   "cell_type": "code",
   "execution_count": 155,
   "id": "27031dd5",
   "metadata": {},
   "outputs": [
    {
     "data": {
      "text/plain": [
       "array([[29,  6],\n",
       "       [ 8, 48]], dtype=int64)"
      ]
     },
     "execution_count": 155,
     "metadata": {},
     "output_type": "execute_result"
    }
   ],
   "source": [
    "new_y_pred=clf.predict_proba(X_test)[:,0]>=0.6\n",
    "confusion_matrix(y_true=y_test==\"Open the door\",y_pred=new_y_pred)"
   ]
  },
  {
   "cell_type": "code",
   "execution_count": 156,
   "id": "656d30e1",
   "metadata": {},
   "outputs": [
    {
     "data": {
      "text/plain": [
       "0.9944678498545901"
      ]
     },
     "execution_count": 156,
     "metadata": {},
     "output_type": "execute_result"
    }
   ],
   "source": [
    "y_pred_train=clf.predict(X_train)\n",
    "f1_score(y_true=y_train,y_pred=y_pred_train,average=\"weighted\")"
   ]
  },
  {
   "cell_type": "code",
   "execution_count": 96,
   "id": "fccca4dd",
   "metadata": {},
   "outputs": [],
   "source": [
    "from sklearn.decomposition import PCA\n",
    "pca = PCA(n_components=0.99)\n",
    "reduced_X=pca.fit_transform(X)\n"
   ]
  },
  {
   "cell_type": "code",
   "execution_count": 97,
   "id": "6256e982",
   "metadata": {},
   "outputs": [
    {
     "data": {
      "text/plain": [
       "(453, 190)"
      ]
     },
     "execution_count": 97,
     "metadata": {},
     "output_type": "execute_result"
    }
   ],
   "source": [
    "reduced_X.shape"
   ]
  },
  {
   "cell_type": "code",
   "execution_count": 157,
   "id": "ea3f2076",
   "metadata": {},
   "outputs": [
    {
     "name": "stderr",
     "output_type": "stream",
     "text": [
      "C:\\Users\\youss\\AppData\\Roaming\\Python\\Python37\\site-packages\\ipykernel_launcher.py:3: FutureWarning: Pass size=16800 as keyword args. From version 0.10 passing these as positional arguments will result in an error\n",
      "  This is separate from the ipykernel package so we can avoid doing imports until\n",
      "C:\\Users\\youss\\AppData\\Roaming\\Python\\Python37\\site-packages\\ipykernel_launcher.py:2: FutureWarning: Pass y=[0.00017516 0.00014067 0.00103448 ... 0.         0.         0.        ] as keyword args. From version 0.10 passing these as positional arguments will result in an error\n",
      "  \n"
     ]
    }
   ],
   "source": [
    "test_signal, sampling_rate= librosa.load(r\"C:\\Users\\youss\\Desktop\\Wrong\\Audio3.wav\")\n",
    "sampled_signal, new_rate=sampling_triming(i,sample_rate,8000)\n",
    "sampled_signal= librosa.util.fix_length(sampled_signal, int(2.1*new_rate))\n",
    "delta=mfcc(sampled_signal,new_rate)"
   ]
  },
  {
   "cell_type": "code",
   "execution_count": 158,
   "id": "cf80effb",
   "metadata": {},
   "outputs": [
    {
     "data": {
      "text/plain": [
       "array(['Open the door'], dtype=object)"
      ]
     },
     "execution_count": 158,
     "metadata": {},
     "output_type": "execute_result"
    }
   ],
   "source": [
    "test_delta=scaler.transform([delta])\n",
    "delta_reduced=pca.transform(test_delta)\n",
    "clf.predict(delta_reduced)"
   ]
  },
  {
   "cell_type": "code",
   "execution_count": 21,
   "id": "1eb2103d",
   "metadata": {},
   "outputs": [
    {
     "name": "stderr",
     "output_type": "stream",
     "text": [
      "C:\\Users\\youss\\AppData\\Roaming\\Python\\Python37\\site-packages\\ipykernel_launcher.py:5: FutureWarning: Pass y=[ 0.          0.          0.         ... -0.00065898 -0.00027732\n",
      "  0.        ], sr=22050 as keyword args. From version 0.10 passing these as positional arguments will result in an error\n",
      "  \"\"\"\n"
     ]
    },
    {
     "data": {
      "text/plain": [
       "[<matplotlib.lines.Line2D at 0x192a9291048>]"
      ]
     },
     "execution_count": 21,
     "metadata": {},
     "output_type": "execute_result"
    },
    {
     "data": {
      "image/png": "[encoded data removed]",
      "text/plain": [
       "<Figure size 432x288 with 1 Axes>"
      ]
     },
     "metadata": {
      "needs_background": "light"
     },
     "output_type": "display_data"
    }
   ],
   "source": [
    "import matplotlib.pyplot as plt\n",
    "import librosa\n",
    "import numpy as np\n",
    "audio,sr = librosa.load(r\"D:\\Projects\\Voice-Passsword-Checker\\audio.wav\")\n",
    "mfcc= librosa.feature.mfcc(audio, sr)\n",
    "means=np.mean(mfcc,axis=1)\n",
    "plt.plot(means[2:])"
   ]
  },
  {
   "cell_type": "code",
   "execution_count": 25,
   "id": "d9361aec",
   "metadata": {},
   "outputs": [
    {
     "name": "stderr",
     "output_type": "stream",
     "text": [
      "C:\\Users\\youss\\AppData\\Roaming\\Python\\Python37\\site-packages\\ipykernel_launcher.py:6: FutureWarning: Pass y=[ 9.3271134e-05  1.2277882e-04  2.6065154e-05 ...  1.2815610e-04\n",
      " -7.7002587e-06  8.2933278e-05], sr=22050 as keyword args. From version 0.10 passing these as positional arguments will result in an error\n",
      "  \n",
      "C:\\Users\\youss\\AppData\\Roaming\\Python\\Python37\\site-packages\\ipykernel_launcher.py:7: FutureWarning: Pass y=[ 9.3271134e-05  1.2277882e-04  2.6065154e-05 ...  1.2815610e-04\n",
      " -7.7002587e-06  8.2933278e-05] as keyword args. From version 0.10 passing these as positional arguments will result in an error\n",
      "  import sys\n"
     ]
    },
    {
     "data": {
      "text/plain": [
       "<matplotlib.collections.QuadMesh at 0x192ad1f1710>"
      ]
     },
     "execution_count": 25,
     "metadata": {},
     "output_type": "execute_result"
    },
    {
     "data": {
      "image/png": "[encoded data removed]",
      "text/plain": [
       "<Figure size 432x288 with 1 Axes>"
      ]
     },
     "metadata": {},
     "output_type": "display_data"
    }
   ],
   "source": [
    "import matplotlib.pyplot as plt\n",
    "import librosa\n",
    "import numpy as np\n",
    "import librosa.display\n",
    "audio,sr = librosa.load(r\"D:\\Projects\\Voice-Passsword-Checker\\Team-voices\\Dina.wav\")\n",
    "mfcc= librosa.feature.mfcc(audio, sr)\n",
    "mel=librosa.feature.melspectrogram(audio, sr=sr)\n",
    "mel=librosa.power_to_db(mel, ref=np.max)\n",
    "librosa.display.specshow(mel)"
   ]
  },
  {
   "cell_type": "code",
   "execution_count": 26,
   "id": "1d8b4e69",
   "metadata": {},
   "outputs": [
    {
     "name": "stderr",
     "output_type": "stream",
     "text": [
      "C:\\Users\\youss\\AppData\\Roaming\\Python\\Python37\\site-packages\\ipykernel_launcher.py:5: FutureWarning: Pass y=[0.         0.         0.         ... 0.00112756 0.00038837 0.        ], sr=22050 as keyword args. From version 0.10 passing these as positional arguments will result in an error\n",
      "  \"\"\"\n",
      "C:\\Users\\youss\\AppData\\Roaming\\Python\\Python37\\site-packages\\ipykernel_launcher.py:6: FutureWarning: Pass y=[0.         0.         0.         ... 0.00112756 0.00038837 0.        ] as keyword args. From version 0.10 passing these as positional arguments will result in an error\n",
      "  \n"
     ]
    },
    {
     "data": {
      "text/plain": [
       "<matplotlib.collections.QuadMesh at 0x192ad015208>"
      ]
     },
     "execution_count": 26,
     "metadata": {},
     "output_type": "execute_result"
    },
    {
     "data": {
      "image/png": "[encoded data removed]",
      "text/plain": [
       "<Figure size 432x288 with 1 Axes>"
      ]
     },
     "metadata": {},
     "output_type": "display_data"
    }
   ],
   "source": [
    "import matplotlib.pyplot as plt\n",
    "import librosa\n",
    "import numpy as np\n",
    "audio,sr = librosa.load(r\"D:\\Projects\\Voice-Passsword-Checker\\Team-voices\\Romaisaa.wav\")\n",
    "mfcc= librosa.feature.mfcc(audio, sr)\n",
    "mel=librosa.feature.melspectrogram(audio, sr=sr)\n",
    "mel=librosa.power_to_db(mel, ref=np.max)\n",
    "librosa.display.specshow(mel)"
   ]
  },
  {
   "cell_type": "code",
   "execution_count": 27,
   "id": "778eac34",
   "metadata": {},
   "outputs": [
    {
     "name": "stderr",
     "output_type": "stream",
     "text": [
      "C:\\Users\\youss\\AppData\\Roaming\\Python\\Python37\\site-packages\\ipykernel_launcher.py:5: FutureWarning: Pass y=[ 0.          0.          0.         ... -0.00055291 -0.00049569\n",
      "  0.        ], sr=22050 as keyword args. From version 0.10 passing these as positional arguments will result in an error\n",
      "  \"\"\"\n",
      "C:\\Users\\youss\\AppData\\Roaming\\Python\\Python37\\site-packages\\ipykernel_launcher.py:6: FutureWarning: Pass y=[ 0.          0.          0.         ... -0.00055291 -0.00049569\n",
      "  0.        ] as keyword args. From version 0.10 passing these as positional arguments will result in an error\n",
      "  \n"
     ]
    },
    {
     "data": {
      "text/plain": [
       "<matplotlib.collections.QuadMesh at 0x192adb58b70>"
      ]
     },
     "execution_count": 27,
     "metadata": {},
     "output_type": "execute_result"
    },
    {
     "data": {
      "image/png": "[encoded data removed]",
      "text/plain": [
       "<Figure size 432x288 with 1 Axes>"
      ]
     },
     "metadata": {},
     "output_type": "display_data"
    }
   ],
   "source": [
    "import matplotlib.pyplot as plt\n",
    "import librosa\n",
    "import numpy as np\n",
    "audio,sr = librosa.load(r\"D:\\Projects\\Voice-Passsword-Checker\\Team-voices\\Shaaban.wav\")\n",
    "mfcc= librosa.feature.mfcc(audio, sr)\n",
    "mel=librosa.feature.melspectrogram(audio, sr=sr)\n",
    "mel=librosa.power_to_db(mel, ref=np.max)\n",
    "librosa.display.specshow(mel)\n"
   ]
  },
  {
   "cell_type": "code",
   "execution_count": null,
   "id": "aa441ad6",
   "metadata": {},
   "outputs": [],
   "source": []
  }
 ],
 "metadata": {
  "kernelspec": {
   "display_name": "Python 3 (ipykernel)",
   "language": "python",
   "name": "python3"
  },
  "language_info": {
   "codemirror_mode": {
    "name": "ipython",
    "version": 3
   },
   "file_extension": ".py",
   "mimetype": "text/x-python",
   "name": "python",
   "nbconvert_exporter": "python",
   "pygments_lexer": "ipython3",
   "version": "3.7.0"
  },
  "vscode": {
   "interpreter": {
    "hash": "1dcd94874888b7875c65b06e8db780edc36f818ca50cec7c0a5f76917c081af1"
   }
  }
 },
 "nbformat": 4,
 "nbformat_minor": 5
}
